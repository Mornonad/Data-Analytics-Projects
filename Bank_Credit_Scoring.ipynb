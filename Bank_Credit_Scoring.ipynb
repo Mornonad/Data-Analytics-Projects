{
 "cells": [
  {
   "cell_type": "markdown",
   "id": "3ad5687e",
   "metadata": {
    "toc": true
   },
   "source": [
    "<h1>Содержание<span class=\"tocSkip\"></span></h1>\n",
    "<div class=\"toc\"><ul class=\"toc-item\"><li><span><a href=\"#Получение-и-обзор-данных\" data-toc-modified-id=\"Получение-и-обзор-данных-1\"><span class=\"toc-item-num\">1&nbsp;&nbsp;</span>Получение и обзор данных</a></span><ul class=\"toc-item\"><li><span><a href=\"#Проверим-корректность-названия-столбцов.\" data-toc-modified-id=\"Проверим-корректность-названия-столбцов.-1.1\"><span class=\"toc-item-num\">1.1&nbsp;&nbsp;</span>Проверим корректность названия столбцов.</a></span></li><li><span><a href=\"#Общая-информация-о-данных-таблицы.\" data-toc-modified-id=\"Общая-информация-о-данных-таблицы.-1.2\"><span class=\"toc-item-num\">1.2&nbsp;&nbsp;</span>Общая информация о данных таблицы.</a></span></li><li><span><a href=\"#Проверим-величины-хранящиеся-в-таблице.\" data-toc-modified-id=\"Проверим-величины-хранящиеся-в-таблице.-1.3\"><span class=\"toc-item-num\">1.3&nbsp;&nbsp;</span>Проверим величины хранящиеся в таблице.</a></span></li><li><span><a href=\"#Вывод\" data-toc-modified-id=\"Вывод-1.4\"><span class=\"toc-item-num\">1.4&nbsp;&nbsp;</span>Вывод</a></span></li></ul></li><li><span><a href=\"#Предобработка-данных\" data-toc-modified-id=\"Предобработка-данных-2\"><span class=\"toc-item-num\">2&nbsp;&nbsp;</span>Предобработка данных</a></span><ul class=\"toc-item\"><li><span><a href=\"#Обработка-пропусков\" data-toc-modified-id=\"Обработка-пропусков-2.1\"><span class=\"toc-item-num\">2.1&nbsp;&nbsp;</span>Обработка пропусков</a></span><ul class=\"toc-item\"><li><span><a href=\"#Обработка-пропусков-в-столбце-total_income\" data-toc-modified-id=\"Обработка-пропусков-в-столбце-total_income-2.1.1\"><span class=\"toc-item-num\">2.1.1&nbsp;&nbsp;</span>Обработка пропусков в столбце <code>total_income</code></a></span></li><li><span><a href=\"#Обработка-пропусков-в-столбце-days_employed\" data-toc-modified-id=\"Обработка-пропусков-в-столбце-days_employed-2.1.2\"><span class=\"toc-item-num\">2.1.2&nbsp;&nbsp;</span>Обработка пропусков в столбце <code>days_employed</code></a></span></li></ul></li><li><span><a href=\"#Замена-типа-данных\" data-toc-modified-id=\"Замена-типа-данных-2.2\"><span class=\"toc-item-num\">2.2&nbsp;&nbsp;</span>Замена типа данных</a></span></li><li><span><a href=\"#Исправление-ошибок-в-данных\" data-toc-modified-id=\"Исправление-ошибок-в-данных-2.3\"><span class=\"toc-item-num\">2.3&nbsp;&nbsp;</span>Исправление ошибок в данных</a></span></li><li><span><a href=\"#Обработка-дубликатов\" data-toc-modified-id=\"Обработка-дубликатов-2.4\"><span class=\"toc-item-num\">2.4&nbsp;&nbsp;</span>Обработка дубликатов</a></span></li><li><span><a href=\"#Вывод\" data-toc-modified-id=\"Вывод-2.5\"><span class=\"toc-item-num\">2.5&nbsp;&nbsp;</span>Вывод</a></span></li></ul></li><li><span><a href=\"#Лемматизация\" data-toc-modified-id=\"Лемматизация-3\"><span class=\"toc-item-num\">3&nbsp;&nbsp;</span>Лемматизация</a></span><ul class=\"toc-item\"><li><span><a href=\"#Вывод\" data-toc-modified-id=\"Вывод-3.1\"><span class=\"toc-item-num\">3.1&nbsp;&nbsp;</span>Вывод</a></span></li></ul></li><li><span><a href=\"#Категоризация-данных\" data-toc-modified-id=\"Категоризация-данных-4\"><span class=\"toc-item-num\">4&nbsp;&nbsp;</span>Категоризация данных</a></span><ul class=\"toc-item\"><li><span><a href=\"#Катетеризация-по-количеству-детей.\" data-toc-modified-id=\"Катетеризация-по-количеству-детей.-4.1\"><span class=\"toc-item-num\">4.1&nbsp;&nbsp;</span>Катетеризация по количеству детей.</a></span></li><li><span><a href=\"#Категоризация-по-доходам\" data-toc-modified-id=\"Категоризация-по-доходам-4.2\"><span class=\"toc-item-num\">4.2&nbsp;&nbsp;</span>Категоризация по доходам</a></span></li><li><span><a href=\"#Категоризация-по-возрасту\" data-toc-modified-id=\"Категоризация-по-возрасту-4.3\"><span class=\"toc-item-num\">4.3&nbsp;&nbsp;</span>Категоризация по возрасту</a></span></li><li><span><a href=\"#Вывод\" data-toc-modified-id=\"Вывод-4.4\"><span class=\"toc-item-num\">4.4&nbsp;&nbsp;</span>Вывод</a></span></li></ul></li><li><span><a href=\"#Проверка-гипотез\" data-toc-modified-id=\"Проверка-гипотез-5\"><span class=\"toc-item-num\">5&nbsp;&nbsp;</span>Проверка гипотез</a></span><ul class=\"toc-item\"><li><span><a href=\"#Есть-ли-зависимость-между-наличием-детей-и-возвратом-кредита-в-срок?\" data-toc-modified-id=\"Есть-ли-зависимость-между-наличием-детей-и-возвратом-кредита-в-срок?-5.1\"><span class=\"toc-item-num\">5.1&nbsp;&nbsp;</span>Есть ли зависимость между наличием детей и возвратом кредита в срок?</a></span></li><li><span><a href=\"#Вывод\" data-toc-modified-id=\"Вывод-5.2\"><span class=\"toc-item-num\">5.2&nbsp;&nbsp;</span>Вывод</a></span></li><li><span><a href=\"#Есть-ли-зависимость-между-семейным-положением-и-возвратом-кредита-в-срок?\" data-toc-modified-id=\"Есть-ли-зависимость-между-семейным-положением-и-возвратом-кредита-в-срок?-5.3\"><span class=\"toc-item-num\">5.3&nbsp;&nbsp;</span>Есть ли зависимость между семейным положением и возвратом кредита в срок?</a></span></li><li><span><a href=\"#Вывод\" data-toc-modified-id=\"Вывод-5.4\"><span class=\"toc-item-num\">5.4&nbsp;&nbsp;</span>Вывод</a></span></li><li><span><a href=\"#Есть-ли-зависимость-между-уровнем-дохода-и-возвратом-кредита-в-срок?\" data-toc-modified-id=\"Есть-ли-зависимость-между-уровнем-дохода-и-возвратом-кредита-в-срок?-5.5\"><span class=\"toc-item-num\">5.5&nbsp;&nbsp;</span>Есть ли зависимость между уровнем дохода и возвратом кредита в срок?</a></span></li><li><span><a href=\"#Вывод\" data-toc-modified-id=\"Вывод-5.6\"><span class=\"toc-item-num\">5.6&nbsp;&nbsp;</span>Вывод</a></span></li><li><span><a href=\"#Как-разные-цели-кредита-влияют-на-его-возврат-в-срок?\" data-toc-modified-id=\"Как-разные-цели-кредита-влияют-на-его-возврат-в-срок?-5.7\"><span class=\"toc-item-num\">5.7&nbsp;&nbsp;</span>Как разные цели кредита влияют на его возврат в срок?</a></span></li><li><span><a href=\"#Вывод\" data-toc-modified-id=\"Вывод-5.8\"><span class=\"toc-item-num\">5.8&nbsp;&nbsp;</span>Вывод</a></span></li></ul></li><li><span><a href=\"#Общий-вывод\" data-toc-modified-id=\"Общий-вывод-6\"><span class=\"toc-item-num\">6&nbsp;&nbsp;</span>Общий вывод</a></span></li></ul></div>"
   ]
  },
  {
   "cell_type": "markdown",
   "id": "06370588",
   "metadata": {},
   "source": [
    "# Исследование надёжности заёмщиков"
   ]
  },
  {
   "cell_type": "markdown",
   "id": "ee5ae096",
   "metadata": {},
   "source": [
    "**Заказчик** — кредитный отдел банка. \n",
    "\n",
    "**Цель исследования** — разобраться, влияет ли семейное положение и количество детей клиента на факт погашения кредита в срок. \n",
    "\n",
    "**Входные данные от банка** — статистика о платёжеспособности клиентов.\n",
    "\n",
    "**Результаты исследования** будут учтены при построении модели кредитного скоринга — специальной системы, которая оценивает способность потенциального заёмщика вернуть кредит банку.\n",
    "\n",
    "**Ход исследования**\n",
    "\n",
    "Исследование пройдёт в три этапа:\n",
    " 1. Получение и обзор данных.\n",
    " 2. Предобработка данных.\n",
    " 3. Проверка гипотезы.\n"
   ]
  },
  {
   "cell_type": "markdown",
   "id": "ed3f584c",
   "metadata": {},
   "source": [
    "## Получение и обзор данных\n"
   ]
  },
  {
   "cell_type": "code",
   "execution_count": 91,
   "id": "f8490168",
   "metadata": {},
   "outputs": [],
   "source": [
    "#импортируем библиотеки необходимые для анализа данных\n",
    "\n",
    "import pandas as pd\n",
    "import numpy as np\n",
    "import seaborn as sns"
   ]
  },
  {
   "cell_type": "markdown",
   "id": "ac6e4d37",
   "metadata": {},
   "source": [
    "Прочитаем файл data_credit.csv и сохраним его в переменной clients."
   ]
  },
  {
   "cell_type": "code",
   "execution_count": 2,
   "id": "e17cc8ac",
   "metadata": {
    "id": "fFVu7vqh_Zct"
   },
   "outputs": [],
   "source": [
    "clients = pd.read_csv('data_credit.csv')"
   ]
  },
  {
   "cell_type": "markdown",
   "id": "412376dc",
   "metadata": {},
   "source": [
    "Получение первых 10 строк таблицы."
   ]
  },
  {
   "cell_type": "code",
   "execution_count": 3,
   "id": "8e9a35ad",
   "metadata": {
    "id": "oWTVX3gW_Zct",
    "scrolled": false
   },
   "outputs": [
    {
     "data": {
      "text/html": [
       "<div>\n",
       "<style scoped>\n",
       "    .dataframe tbody tr th:only-of-type {\n",
       "        vertical-align: middle;\n",
       "    }\n",
       "\n",
       "    .dataframe tbody tr th {\n",
       "        vertical-align: top;\n",
       "    }\n",
       "\n",
       "    .dataframe thead th {\n",
       "        text-align: right;\n",
       "    }\n",
       "</style>\n",
       "<table border=\"1\" class=\"dataframe\">\n",
       "  <thead>\n",
       "    <tr style=\"text-align: right;\">\n",
       "      <th></th>\n",
       "      <th>children</th>\n",
       "      <th>days_employed</th>\n",
       "      <th>dob_years</th>\n",
       "      <th>education</th>\n",
       "      <th>education_id</th>\n",
       "      <th>family_status</th>\n",
       "      <th>family_status_id</th>\n",
       "      <th>gender</th>\n",
       "      <th>income_type</th>\n",
       "      <th>debt</th>\n",
       "      <th>total_income</th>\n",
       "      <th>purpose</th>\n",
       "    </tr>\n",
       "  </thead>\n",
       "  <tbody>\n",
       "    <tr>\n",
       "      <th>0</th>\n",
       "      <td>1</td>\n",
       "      <td>-8437.673028</td>\n",
       "      <td>42</td>\n",
       "      <td>высшее</td>\n",
       "      <td>0</td>\n",
       "      <td>женат / замужем</td>\n",
       "      <td>0</td>\n",
       "      <td>F</td>\n",
       "      <td>сотрудник</td>\n",
       "      <td>0</td>\n",
       "      <td>253875.639453</td>\n",
       "      <td>покупка жилья</td>\n",
       "    </tr>\n",
       "    <tr>\n",
       "      <th>1</th>\n",
       "      <td>1</td>\n",
       "      <td>-4024.803754</td>\n",
       "      <td>36</td>\n",
       "      <td>среднее</td>\n",
       "      <td>1</td>\n",
       "      <td>женат / замужем</td>\n",
       "      <td>0</td>\n",
       "      <td>F</td>\n",
       "      <td>сотрудник</td>\n",
       "      <td>0</td>\n",
       "      <td>112080.014102</td>\n",
       "      <td>приобретение автомобиля</td>\n",
       "    </tr>\n",
       "    <tr>\n",
       "      <th>2</th>\n",
       "      <td>0</td>\n",
       "      <td>-5623.422610</td>\n",
       "      <td>33</td>\n",
       "      <td>Среднее</td>\n",
       "      <td>1</td>\n",
       "      <td>женат / замужем</td>\n",
       "      <td>0</td>\n",
       "      <td>M</td>\n",
       "      <td>сотрудник</td>\n",
       "      <td>0</td>\n",
       "      <td>145885.952297</td>\n",
       "      <td>покупка жилья</td>\n",
       "    </tr>\n",
       "    <tr>\n",
       "      <th>3</th>\n",
       "      <td>3</td>\n",
       "      <td>-4124.747207</td>\n",
       "      <td>32</td>\n",
       "      <td>среднее</td>\n",
       "      <td>1</td>\n",
       "      <td>женат / замужем</td>\n",
       "      <td>0</td>\n",
       "      <td>M</td>\n",
       "      <td>сотрудник</td>\n",
       "      <td>0</td>\n",
       "      <td>267628.550329</td>\n",
       "      <td>дополнительное образование</td>\n",
       "    </tr>\n",
       "    <tr>\n",
       "      <th>4</th>\n",
       "      <td>0</td>\n",
       "      <td>340266.072047</td>\n",
       "      <td>53</td>\n",
       "      <td>среднее</td>\n",
       "      <td>1</td>\n",
       "      <td>гражданский брак</td>\n",
       "      <td>1</td>\n",
       "      <td>F</td>\n",
       "      <td>пенсионер</td>\n",
       "      <td>0</td>\n",
       "      <td>158616.077870</td>\n",
       "      <td>сыграть свадьбу</td>\n",
       "    </tr>\n",
       "    <tr>\n",
       "      <th>5</th>\n",
       "      <td>0</td>\n",
       "      <td>-926.185831</td>\n",
       "      <td>27</td>\n",
       "      <td>высшее</td>\n",
       "      <td>0</td>\n",
       "      <td>гражданский брак</td>\n",
       "      <td>1</td>\n",
       "      <td>M</td>\n",
       "      <td>компаньон</td>\n",
       "      <td>0</td>\n",
       "      <td>255763.565419</td>\n",
       "      <td>покупка жилья</td>\n",
       "    </tr>\n",
       "    <tr>\n",
       "      <th>6</th>\n",
       "      <td>0</td>\n",
       "      <td>-2879.202052</td>\n",
       "      <td>43</td>\n",
       "      <td>высшее</td>\n",
       "      <td>0</td>\n",
       "      <td>женат / замужем</td>\n",
       "      <td>0</td>\n",
       "      <td>F</td>\n",
       "      <td>компаньон</td>\n",
       "      <td>0</td>\n",
       "      <td>240525.971920</td>\n",
       "      <td>операции с жильем</td>\n",
       "    </tr>\n",
       "    <tr>\n",
       "      <th>7</th>\n",
       "      <td>0</td>\n",
       "      <td>-152.779569</td>\n",
       "      <td>50</td>\n",
       "      <td>СРЕДНЕЕ</td>\n",
       "      <td>1</td>\n",
       "      <td>женат / замужем</td>\n",
       "      <td>0</td>\n",
       "      <td>M</td>\n",
       "      <td>сотрудник</td>\n",
       "      <td>0</td>\n",
       "      <td>135823.934197</td>\n",
       "      <td>образование</td>\n",
       "    </tr>\n",
       "    <tr>\n",
       "      <th>8</th>\n",
       "      <td>2</td>\n",
       "      <td>-6929.865299</td>\n",
       "      <td>35</td>\n",
       "      <td>ВЫСШЕЕ</td>\n",
       "      <td>0</td>\n",
       "      <td>гражданский брак</td>\n",
       "      <td>1</td>\n",
       "      <td>F</td>\n",
       "      <td>сотрудник</td>\n",
       "      <td>0</td>\n",
       "      <td>95856.832424</td>\n",
       "      <td>на проведение свадьбы</td>\n",
       "    </tr>\n",
       "    <tr>\n",
       "      <th>9</th>\n",
       "      <td>0</td>\n",
       "      <td>-2188.756445</td>\n",
       "      <td>41</td>\n",
       "      <td>среднее</td>\n",
       "      <td>1</td>\n",
       "      <td>женат / замужем</td>\n",
       "      <td>0</td>\n",
       "      <td>M</td>\n",
       "      <td>сотрудник</td>\n",
       "      <td>0</td>\n",
       "      <td>144425.938277</td>\n",
       "      <td>покупка жилья для семьи</td>\n",
       "    </tr>\n",
       "  </tbody>\n",
       "</table>\n",
       "</div>"
      ],
      "text/plain": [
       "   children  days_employed  dob_years education  education_id  \\\n",
       "0         1   -8437.673028         42    высшее             0   \n",
       "1         1   -4024.803754         36   среднее             1   \n",
       "2         0   -5623.422610         33   Среднее             1   \n",
       "3         3   -4124.747207         32   среднее             1   \n",
       "4         0  340266.072047         53   среднее             1   \n",
       "5         0    -926.185831         27    высшее             0   \n",
       "6         0   -2879.202052         43    высшее             0   \n",
       "7         0    -152.779569         50   СРЕДНЕЕ             1   \n",
       "8         2   -6929.865299         35    ВЫСШЕЕ             0   \n",
       "9         0   -2188.756445         41   среднее             1   \n",
       "\n",
       "      family_status  family_status_id gender income_type  debt   total_income  \\\n",
       "0   женат / замужем                 0      F   сотрудник     0  253875.639453   \n",
       "1   женат / замужем                 0      F   сотрудник     0  112080.014102   \n",
       "2   женат / замужем                 0      M   сотрудник     0  145885.952297   \n",
       "3   женат / замужем                 0      M   сотрудник     0  267628.550329   \n",
       "4  гражданский брак                 1      F   пенсионер     0  158616.077870   \n",
       "5  гражданский брак                 1      M   компаньон     0  255763.565419   \n",
       "6   женат / замужем                 0      F   компаньон     0  240525.971920   \n",
       "7   женат / замужем                 0      M   сотрудник     0  135823.934197   \n",
       "8  гражданский брак                 1      F   сотрудник     0   95856.832424   \n",
       "9   женат / замужем                 0      M   сотрудник     0  144425.938277   \n",
       "\n",
       "                      purpose  \n",
       "0               покупка жилья  \n",
       "1     приобретение автомобиля  \n",
       "2               покупка жилья  \n",
       "3  дополнительное образование  \n",
       "4             сыграть свадьбу  \n",
       "5               покупка жилья  \n",
       "6           операции с жильем  \n",
       "7                 образование  \n",
       "8       на проведение свадьбы  \n",
       "9     покупка жилья для семьи  "
      ]
     },
     "execution_count": 3,
     "metadata": {},
     "output_type": "execute_result"
    }
   ],
   "source": [
    "clients.head(10)"
   ]
  },
  {
   "cell_type": "markdown",
   "id": "6a47c375",
   "metadata": {},
   "source": [
    "Можно заметить, что в колонке `education` присутствуют неоднородные данные. Следует привести к одному регистру."
   ]
  },
  {
   "cell_type": "code",
   "execution_count": 4,
   "id": "cf774f3b",
   "metadata": {},
   "outputs": [
    {
     "data": {
      "text/plain": [
       "array(['высшее', 'среднее', 'Среднее', 'СРЕДНЕЕ', 'ВЫСШЕЕ',\n",
       "       'неоконченное высшее', 'начальное', 'Высшее',\n",
       "       'НЕОКОНЧЕННОЕ ВЫСШЕЕ', 'Неоконченное высшее', 'НАЧАЛЬНОЕ',\n",
       "       'Начальное', 'Ученая степень', 'УЧЕНАЯ СТЕПЕНЬ', 'ученая степень'],\n",
       "      dtype=object)"
      ]
     },
     "execution_count": 4,
     "metadata": {},
     "output_type": "execute_result"
    }
   ],
   "source": [
    "clients.education.unique()"
   ]
  },
  {
   "cell_type": "markdown",
   "id": "737ae09e",
   "metadata": {},
   "source": [
    "### Проверим корректность названия столбцов.\n"
   ]
  },
  {
   "cell_type": "code",
   "execution_count": 5,
   "id": "cd5e0277",
   "metadata": {},
   "outputs": [
    {
     "data": {
      "text/plain": [
       "Index(['children', 'days_employed', 'dob_years', 'education', 'education_id',\n",
       "       'family_status', 'family_status_id', 'gender', 'income_type', 'debt',\n",
       "       'total_income', 'purpose'],\n",
       "      dtype='object')"
      ]
     },
     "execution_count": 5,
     "metadata": {},
     "output_type": "execute_result"
    }
   ],
   "source": [
    "clients.columns"
   ]
  },
  {
   "cell_type": "markdown",
   "id": "19dabf42",
   "metadata": {},
   "source": [
    "Названия корректны."
   ]
  },
  {
   "cell_type": "markdown",
   "id": "c2b8c9fd",
   "metadata": {},
   "source": [
    "### Общая информация о данных таблицы."
   ]
  },
  {
   "cell_type": "code",
   "execution_count": 6,
   "id": "3c17d333",
   "metadata": {
    "id": "DSf2kIb-_Zct"
   },
   "outputs": [
    {
     "name": "stdout",
     "output_type": "stream",
     "text": [
      "<class 'pandas.core.frame.DataFrame'>\n",
      "RangeIndex: 21525 entries, 0 to 21524\n",
      "Data columns (total 12 columns):\n",
      " #   Column            Non-Null Count  Dtype  \n",
      "---  ------            --------------  -----  \n",
      " 0   children          21525 non-null  int64  \n",
      " 1   days_employed     19351 non-null  float64\n",
      " 2   dob_years         21525 non-null  int64  \n",
      " 3   education         21525 non-null  object \n",
      " 4   education_id      21525 non-null  int64  \n",
      " 5   family_status     21525 non-null  object \n",
      " 6   family_status_id  21525 non-null  int64  \n",
      " 7   gender            21525 non-null  object \n",
      " 8   income_type       21525 non-null  object \n",
      " 9   debt              21525 non-null  int64  \n",
      " 10  total_income      19351 non-null  float64\n",
      " 11  purpose           21525 non-null  object \n",
      "dtypes: float64(2), int64(5), object(5)\n",
      "memory usage: 2.0+ MB\n"
     ]
    }
   ],
   "source": [
    "clients.info()"
   ]
  },
  {
   "cell_type": "markdown",
   "id": "968c7969",
   "metadata": {
    "id": "TaQ2Iwbr_Zct"
   },
   "source": [
    "Рассмотрим полученную информацию подробнее.\n",
    "\n",
    "Всего в таблице данных о 21525 клиентах с 12 признаками, 4 из которых относятся к количественным признакам, 8 – к категориальным.\n",
    "\n",
    "Согласно документации к данным:\n",
    "\n",
    "* `children` — количество детей в семье;\n",
    "* `days_employed` — общий трудовой стаж в днях;  \n",
    "* `dob_years` — возраст клиента в годах;\n",
    "* `education` — уровень образования клиента;\n",
    "* `education_id` — идентификатор уровня образования;\n",
    "* `family_status` — семейное положение;\n",
    "* `family_status_id` — идентификатор семейного положения;\n",
    "* `gender` — пол клиента;\n",
    "* `income_type` — тип занятости;\n",
    "* `debt` — имел ли задолженность по возврату кредитов;\n",
    "* `total_income` — ежемесячный доход;\n",
    "* `purpose` — цель получения кредита.\n",
    "\n",
    "Как можно заметить в колонках `days_employed` и `total_income` имеются пропущенные значения."
   ]
  },
  {
   "cell_type": "markdown",
   "id": "14e7e2cc",
   "metadata": {},
   "source": [
    "### Проверим величины хранящиеся в таблице."
   ]
  },
  {
   "cell_type": "code",
   "execution_count": 7,
   "id": "25b94d30",
   "metadata": {},
   "outputs": [
    {
     "data": {
      "text/html": [
       "<div>\n",
       "<style scoped>\n",
       "    .dataframe tbody tr th:only-of-type {\n",
       "        vertical-align: middle;\n",
       "    }\n",
       "\n",
       "    .dataframe tbody tr th {\n",
       "        vertical-align: top;\n",
       "    }\n",
       "\n",
       "    .dataframe thead th {\n",
       "        text-align: right;\n",
       "    }\n",
       "</style>\n",
       "<table border=\"1\" class=\"dataframe\">\n",
       "  <thead>\n",
       "    <tr style=\"text-align: right;\">\n",
       "      <th></th>\n",
       "      <th>children</th>\n",
       "      <th>days_employed</th>\n",
       "      <th>dob_years</th>\n",
       "      <th>education_id</th>\n",
       "      <th>family_status_id</th>\n",
       "      <th>debt</th>\n",
       "      <th>total_income</th>\n",
       "    </tr>\n",
       "  </thead>\n",
       "  <tbody>\n",
       "    <tr>\n",
       "      <th>count</th>\n",
       "      <td>21525.000000</td>\n",
       "      <td>19351.000000</td>\n",
       "      <td>21525.000000</td>\n",
       "      <td>21525.000000</td>\n",
       "      <td>21525.000000</td>\n",
       "      <td>21525.000000</td>\n",
       "      <td>1.935100e+04</td>\n",
       "    </tr>\n",
       "    <tr>\n",
       "      <th>mean</th>\n",
       "      <td>0.538908</td>\n",
       "      <td>63046.497661</td>\n",
       "      <td>43.293380</td>\n",
       "      <td>0.817236</td>\n",
       "      <td>0.972544</td>\n",
       "      <td>0.080883</td>\n",
       "      <td>1.674223e+05</td>\n",
       "    </tr>\n",
       "    <tr>\n",
       "      <th>std</th>\n",
       "      <td>1.381587</td>\n",
       "      <td>140827.311974</td>\n",
       "      <td>12.574584</td>\n",
       "      <td>0.548138</td>\n",
       "      <td>1.420324</td>\n",
       "      <td>0.272661</td>\n",
       "      <td>1.029716e+05</td>\n",
       "    </tr>\n",
       "    <tr>\n",
       "      <th>min</th>\n",
       "      <td>-1.000000</td>\n",
       "      <td>-18388.949901</td>\n",
       "      <td>0.000000</td>\n",
       "      <td>0.000000</td>\n",
       "      <td>0.000000</td>\n",
       "      <td>0.000000</td>\n",
       "      <td>2.066726e+04</td>\n",
       "    </tr>\n",
       "    <tr>\n",
       "      <th>25%</th>\n",
       "      <td>0.000000</td>\n",
       "      <td>-2747.423625</td>\n",
       "      <td>33.000000</td>\n",
       "      <td>1.000000</td>\n",
       "      <td>0.000000</td>\n",
       "      <td>0.000000</td>\n",
       "      <td>1.030532e+05</td>\n",
       "    </tr>\n",
       "    <tr>\n",
       "      <th>50%</th>\n",
       "      <td>0.000000</td>\n",
       "      <td>-1203.369529</td>\n",
       "      <td>42.000000</td>\n",
       "      <td>1.000000</td>\n",
       "      <td>0.000000</td>\n",
       "      <td>0.000000</td>\n",
       "      <td>1.450179e+05</td>\n",
       "    </tr>\n",
       "    <tr>\n",
       "      <th>75%</th>\n",
       "      <td>1.000000</td>\n",
       "      <td>-291.095954</td>\n",
       "      <td>53.000000</td>\n",
       "      <td>1.000000</td>\n",
       "      <td>1.000000</td>\n",
       "      <td>0.000000</td>\n",
       "      <td>2.034351e+05</td>\n",
       "    </tr>\n",
       "    <tr>\n",
       "      <th>max</th>\n",
       "      <td>20.000000</td>\n",
       "      <td>401755.400475</td>\n",
       "      <td>75.000000</td>\n",
       "      <td>4.000000</td>\n",
       "      <td>4.000000</td>\n",
       "      <td>1.000000</td>\n",
       "      <td>2.265604e+06</td>\n",
       "    </tr>\n",
       "  </tbody>\n",
       "</table>\n",
       "</div>"
      ],
      "text/plain": [
       "           children  days_employed     dob_years  education_id  \\\n",
       "count  21525.000000   19351.000000  21525.000000  21525.000000   \n",
       "mean       0.538908   63046.497661     43.293380      0.817236   \n",
       "std        1.381587  140827.311974     12.574584      0.548138   \n",
       "min       -1.000000  -18388.949901      0.000000      0.000000   \n",
       "25%        0.000000   -2747.423625     33.000000      1.000000   \n",
       "50%        0.000000   -1203.369529     42.000000      1.000000   \n",
       "75%        1.000000    -291.095954     53.000000      1.000000   \n",
       "max       20.000000  401755.400475     75.000000      4.000000   \n",
       "\n",
       "       family_status_id          debt  total_income  \n",
       "count      21525.000000  21525.000000  1.935100e+04  \n",
       "mean           0.972544      0.080883  1.674223e+05  \n",
       "std            1.420324      0.272661  1.029716e+05  \n",
       "min            0.000000      0.000000  2.066726e+04  \n",
       "25%            0.000000      0.000000  1.030532e+05  \n",
       "50%            0.000000      0.000000  1.450179e+05  \n",
       "75%            1.000000      0.000000  2.034351e+05  \n",
       "max            4.000000      1.000000  2.265604e+06  "
      ]
     },
     "execution_count": 7,
     "metadata": {},
     "output_type": "execute_result"
    }
   ],
   "source": [
    "clients.describe()"
   ]
  },
  {
   "cell_type": "markdown",
   "id": "e0baca99",
   "metadata": {},
   "source": [
    "Можно заметить, что в столбце `children`, `days_employed`, `dob_years` содержатся ненормальные для них значения, которые следует проверить и исправить:\n",
    "    \n",
    "1. Отрицательное значение в столбце `children`;\n",
    "2. Максимальное количество детей в столбце `children` - 20;\n",
    "3. Минимальное значение возраста клиента в `dob_years` - 0;\n",
    "4. Отрицательные значение трудового стажа в `days_employed`;\n",
    "5. Максимальное значение трудового стажа в `days_employed` составляет 401755.400475, что равняется ~ 1100 годам."
   ]
  },
  {
   "cell_type": "markdown",
   "id": "1e84b5ec",
   "metadata": {
    "id": "MCB6-dXG_Zct"
   },
   "source": [
    "### Вывод\n",
    "\n",
    "1. Пустые значения в `days_employed` и `total_income` свидетельствуют, что для некоторых данных доступна не вся информация. Причиной может быть отсутствие информации о трудовом стаже и о заработке.\n",
    "\n",
    "\n",
    "2. Что касается ненормальности значений, то здесь возможны технические ошибки или ошибки при сборе данных.\n",
    "\n",
    "**Столбец `children`:**\n",
    "\n",
    "- Отрицательное значение в столбце  - скорее всего имеется в виду 1 ребенок, проверить частотность подобных значений, если ошибка нечастая, то взять по модулю или привести к 0.\n",
    "- Максимальное количество детей в столбце children - необходимо проверить количество таких значений. Предполагаю, что имеется в виду 2 ребенка. \n",
    "    \n",
    "**Столбец `dob_years`:**\n",
    "\n",
    "- Минимальное значение возраста клиента в `dob_years` - выяснить причину ошибки и заменить на близкий к реальному возраст.\n",
    "    \n",
    "**Столбец `days_employed`.**\n",
    "\n",
    "Уточнить у заказчика корректность собранных данных. Если такое не представляется возможным:\n",
    "- Отрицательные значение трудового стажа в `days_employed` - можно предолжить, что данные введены некорректно, и необходимо привести данные к положительному значению взятием значения по модулю.\n",
    "- Максимальное значение трудового стажа в days_employed привести к возможному значению.\n",
    "\n",
    "3. Тип данных в `total_income` следует заменить на целочисленный.\n",
    "\n",
    "\n",
    "4. Столбец `education` имеет неоднотипные значения - необходимо привести к общему виду."
   ]
  },
  {
   "cell_type": "markdown",
   "id": "ec919c1c",
   "metadata": {
    "id": "SjYF6Ub9_Zct"
   },
   "source": [
    "## Предобработка данных\n"
   ]
  },
  {
   "cell_type": "markdown",
   "id": "1671d7bc",
   "metadata": {
    "id": "5ISfbcfY_Zct"
   },
   "source": [
    "### Обработка пропусков\n",
    "\n"
   ]
  },
  {
   "cell_type": "code",
   "execution_count": 8,
   "id": "2d9c741e",
   "metadata": {
    "scrolled": true
   },
   "outputs": [
    {
     "data": {
      "text/html": [
       "<div>\n",
       "<style scoped>\n",
       "    .dataframe tbody tr th:only-of-type {\n",
       "        vertical-align: middle;\n",
       "    }\n",
       "\n",
       "    .dataframe tbody tr th {\n",
       "        vertical-align: top;\n",
       "    }\n",
       "\n",
       "    .dataframe thead th {\n",
       "        text-align: right;\n",
       "    }\n",
       "</style>\n",
       "<table border=\"1\" class=\"dataframe\">\n",
       "  <thead>\n",
       "    <tr style=\"text-align: right;\">\n",
       "      <th></th>\n",
       "      <th>children</th>\n",
       "      <th>days_employed</th>\n",
       "      <th>dob_years</th>\n",
       "      <th>education</th>\n",
       "      <th>education_id</th>\n",
       "      <th>family_status</th>\n",
       "      <th>family_status_id</th>\n",
       "      <th>gender</th>\n",
       "      <th>income_type</th>\n",
       "      <th>debt</th>\n",
       "      <th>total_income</th>\n",
       "      <th>purpose</th>\n",
       "    </tr>\n",
       "  </thead>\n",
       "  <tbody>\n",
       "    <tr>\n",
       "      <th>12</th>\n",
       "      <td>0</td>\n",
       "      <td>NaN</td>\n",
       "      <td>65</td>\n",
       "      <td>среднее</td>\n",
       "      <td>1</td>\n",
       "      <td>гражданский брак</td>\n",
       "      <td>1</td>\n",
       "      <td>M</td>\n",
       "      <td>пенсионер</td>\n",
       "      <td>0</td>\n",
       "      <td>NaN</td>\n",
       "      <td>сыграть свадьбу</td>\n",
       "    </tr>\n",
       "    <tr>\n",
       "      <th>26</th>\n",
       "      <td>0</td>\n",
       "      <td>NaN</td>\n",
       "      <td>41</td>\n",
       "      <td>среднее</td>\n",
       "      <td>1</td>\n",
       "      <td>женат / замужем</td>\n",
       "      <td>0</td>\n",
       "      <td>M</td>\n",
       "      <td>госслужащий</td>\n",
       "      <td>0</td>\n",
       "      <td>NaN</td>\n",
       "      <td>образование</td>\n",
       "    </tr>\n",
       "    <tr>\n",
       "      <th>29</th>\n",
       "      <td>0</td>\n",
       "      <td>NaN</td>\n",
       "      <td>63</td>\n",
       "      <td>среднее</td>\n",
       "      <td>1</td>\n",
       "      <td>Не женат / не замужем</td>\n",
       "      <td>4</td>\n",
       "      <td>F</td>\n",
       "      <td>пенсионер</td>\n",
       "      <td>0</td>\n",
       "      <td>NaN</td>\n",
       "      <td>строительство жилой недвижимости</td>\n",
       "    </tr>\n",
       "    <tr>\n",
       "      <th>41</th>\n",
       "      <td>0</td>\n",
       "      <td>NaN</td>\n",
       "      <td>50</td>\n",
       "      <td>среднее</td>\n",
       "      <td>1</td>\n",
       "      <td>женат / замужем</td>\n",
       "      <td>0</td>\n",
       "      <td>F</td>\n",
       "      <td>госслужащий</td>\n",
       "      <td>0</td>\n",
       "      <td>NaN</td>\n",
       "      <td>сделка с подержанным автомобилем</td>\n",
       "    </tr>\n",
       "    <tr>\n",
       "      <th>55</th>\n",
       "      <td>0</td>\n",
       "      <td>NaN</td>\n",
       "      <td>54</td>\n",
       "      <td>среднее</td>\n",
       "      <td>1</td>\n",
       "      <td>гражданский брак</td>\n",
       "      <td>1</td>\n",
       "      <td>F</td>\n",
       "      <td>пенсионер</td>\n",
       "      <td>1</td>\n",
       "      <td>NaN</td>\n",
       "      <td>сыграть свадьбу</td>\n",
       "    </tr>\n",
       "  </tbody>\n",
       "</table>\n",
       "</div>"
      ],
      "text/plain": [
       "    children  days_employed  dob_years education  education_id  \\\n",
       "12         0            NaN         65   среднее             1   \n",
       "26         0            NaN         41   среднее             1   \n",
       "29         0            NaN         63   среднее             1   \n",
       "41         0            NaN         50   среднее             1   \n",
       "55         0            NaN         54   среднее             1   \n",
       "\n",
       "            family_status  family_status_id gender  income_type  debt  \\\n",
       "12       гражданский брак                 1      M    пенсионер     0   \n",
       "26        женат / замужем                 0      M  госслужащий     0   \n",
       "29  Не женат / не замужем                 4      F    пенсионер     0   \n",
       "41        женат / замужем                 0      F  госслужащий     0   \n",
       "55       гражданский брак                 1      F    пенсионер     1   \n",
       "\n",
       "    total_income                           purpose  \n",
       "12           NaN                   сыграть свадьбу  \n",
       "26           NaN                       образование  \n",
       "29           NaN  строительство жилой недвижимости  \n",
       "41           NaN  сделка с подержанным автомобилем  \n",
       "55           NaN                   сыграть свадьбу  "
      ]
     },
     "execution_count": 8,
     "metadata": {},
     "output_type": "execute_result"
    }
   ],
   "source": [
    "clients[clients['total_income'].isnull()].head()"
   ]
  },
  {
   "cell_type": "markdown",
   "id": "37bde380",
   "metadata": {},
   "source": [
    "Подсчитаем количество пропусков"
   ]
  },
  {
   "cell_type": "code",
   "execution_count": 9,
   "id": "2605e1b5",
   "metadata": {
    "id": "RskX29qr_Zct",
    "scrolled": false
   },
   "outputs": [
    {
     "data": {
      "text/plain": [
       "children               0\n",
       "days_employed       2174\n",
       "dob_years              0\n",
       "education              0\n",
       "education_id           0\n",
       "family_status          0\n",
       "family_status_id       0\n",
       "gender                 0\n",
       "income_type            0\n",
       "debt                   0\n",
       "total_income        2174\n",
       "purpose                0\n",
       "dtype: int64"
      ]
     },
     "execution_count": 9,
     "metadata": {},
     "output_type": "execute_result"
    }
   ],
   "source": [
    "clients.isna().sum()"
   ]
  },
  {
   "cell_type": "markdown",
   "id": "29e3dd85",
   "metadata": {
    "id": "qubhgnlO_Zct"
   },
   "source": [
    "Проверим взаимосвязаны ли пропущенные значения в `days_employed` и `total_income`"
   ]
  },
  {
   "cell_type": "code",
   "execution_count": 10,
   "id": "f3f20180",
   "metadata": {
    "scrolled": true
   },
   "outputs": [
    {
     "name": "stdout",
     "output_type": "stream",
     "text": [
      "<class 'pandas.core.frame.DataFrame'>\n",
      "Int64Index: 2174 entries, 12 to 21510\n",
      "Data columns (total 12 columns):\n",
      " #   Column            Non-Null Count  Dtype  \n",
      "---  ------            --------------  -----  \n",
      " 0   children          2174 non-null   int64  \n",
      " 1   days_employed     0 non-null      float64\n",
      " 2   dob_years         2174 non-null   int64  \n",
      " 3   education         2174 non-null   object \n",
      " 4   education_id      2174 non-null   int64  \n",
      " 5   family_status     2174 non-null   object \n",
      " 6   family_status_id  2174 non-null   int64  \n",
      " 7   gender            2174 non-null   object \n",
      " 8   income_type       2174 non-null   object \n",
      " 9   debt              2174 non-null   int64  \n",
      " 10  total_income      0 non-null      float64\n",
      " 11  purpose           2174 non-null   object \n",
      "dtypes: float64(2), int64(5), object(5)\n",
      "memory usage: 220.8+ KB\n"
     ]
    }
   ],
   "source": [
    "clients[(clients['days_employed'].isnull() == True) & (clients['total_income'].isnull() == True)].info()"
   ]
  },
  {
   "cell_type": "markdown",
   "id": "c555a49d",
   "metadata": {},
   "source": [
    "Во всех 2174 ячейках, где пропущены `days_employed`, также пропущены и `total_income`. "
   ]
  },
  {
   "cell_type": "markdown",
   "id": "9edca82e",
   "metadata": {},
   "source": [
    "Найдем какую долю составляют пропущенные значения в каждом из столбцов с пропусками"
   ]
  },
  {
   "cell_type": "code",
   "execution_count": 11,
   "id": "db0933d0",
   "metadata": {},
   "outputs": [
    {
     "data": {
      "text/html": [
       "<div>\n",
       "<style scoped>\n",
       "    .dataframe tbody tr th:only-of-type {\n",
       "        vertical-align: middle;\n",
       "    }\n",
       "\n",
       "    .dataframe tbody tr th {\n",
       "        vertical-align: top;\n",
       "    }\n",
       "\n",
       "    .dataframe thead th {\n",
       "        text-align: right;\n",
       "    }\n",
       "</style>\n",
       "<table border=\"1\" class=\"dataframe\">\n",
       "  <thead>\n",
       "    <tr style=\"text-align: right;\">\n",
       "      <th></th>\n",
       "      <th>percent_of_nulls</th>\n",
       "    </tr>\n",
       "  </thead>\n",
       "  <tbody>\n",
       "    <tr>\n",
       "      <th>days_employed</th>\n",
       "      <td>10.1%</td>\n",
       "    </tr>\n",
       "    <tr>\n",
       "      <th>total_income</th>\n",
       "      <td>10.1%</td>\n",
       "    </tr>\n",
       "    <tr>\n",
       "      <th>children</th>\n",
       "      <td>0.0%</td>\n",
       "    </tr>\n",
       "    <tr>\n",
       "      <th>dob_years</th>\n",
       "      <td>0.0%</td>\n",
       "    </tr>\n",
       "    <tr>\n",
       "      <th>education</th>\n",
       "      <td>0.0%</td>\n",
       "    </tr>\n",
       "  </tbody>\n",
       "</table>\n",
       "</div>"
      ],
      "text/plain": [
       "              percent_of_nulls\n",
       "days_employed            10.1%\n",
       "total_income             10.1%\n",
       "children                  0.0%\n",
       "dob_years                 0.0%\n",
       "education                 0.0%"
      ]
     },
     "execution_count": 11,
     "metadata": {},
     "output_type": "execute_result"
    }
   ],
   "source": [
    "missing_values = pd.DataFrame({'percent_of_nulls': clients.isnull().sum() / len(clients)})\n",
    "missing_values['percent_of_nulls'] = missing_values['percent_of_nulls'].map(lambda x: '{:.1%}'.format(x))\n",
    "missing_values.sort_values(by='percent_of_nulls', ascending = False).head()"
   ]
  },
  {
   "cell_type": "markdown",
   "id": "c8011fd8",
   "metadata": {},
   "source": [
    "Доля пропущенных значений составляет 10% от всего колличества данных, что весьма существенно, поэтому логично будет заполнить пропуски медианным значением по каждому типу занятости и трудовому стажу."
   ]
  },
  {
   "cell_type": "markdown",
   "id": "30c4e99f",
   "metadata": {},
   "source": [
    "#### Обработка пропусков в столбце `total_income`\n"
   ]
  },
  {
   "cell_type": "markdown",
   "id": "8e1371ae",
   "metadata": {},
   "source": [
    "Найдем медианные уровни дохода для каждого типа занятости и запишем это в переменную median_income"
   ]
  },
  {
   "cell_type": "code",
   "execution_count": 12,
   "id": "64c213de",
   "metadata": {},
   "outputs": [
    {
     "data": {
      "text/html": [
       "<div>\n",
       "<style scoped>\n",
       "    .dataframe tbody tr th:only-of-type {\n",
       "        vertical-align: middle;\n",
       "    }\n",
       "\n",
       "    .dataframe tbody tr th {\n",
       "        vertical-align: top;\n",
       "    }\n",
       "\n",
       "    .dataframe thead th {\n",
       "        text-align: right;\n",
       "    }\n",
       "</style>\n",
       "<table border=\"1\" class=\"dataframe\">\n",
       "  <thead>\n",
       "    <tr style=\"text-align: right;\">\n",
       "      <th></th>\n",
       "      <th>income_type</th>\n",
       "      <th>total_income</th>\n",
       "    </tr>\n",
       "  </thead>\n",
       "  <tbody>\n",
       "    <tr>\n",
       "      <th>0</th>\n",
       "      <td>безработный</td>\n",
       "      <td>131339.75</td>\n",
       "    </tr>\n",
       "    <tr>\n",
       "      <th>1</th>\n",
       "      <td>в декрете</td>\n",
       "      <td>53829.13</td>\n",
       "    </tr>\n",
       "    <tr>\n",
       "      <th>2</th>\n",
       "      <td>госслужащий</td>\n",
       "      <td>150447.94</td>\n",
       "    </tr>\n",
       "    <tr>\n",
       "      <th>3</th>\n",
       "      <td>компаньон</td>\n",
       "      <td>172357.95</td>\n",
       "    </tr>\n",
       "    <tr>\n",
       "      <th>4</th>\n",
       "      <td>пенсионер</td>\n",
       "      <td>118514.49</td>\n",
       "    </tr>\n",
       "    <tr>\n",
       "      <th>5</th>\n",
       "      <td>предприниматель</td>\n",
       "      <td>499163.14</td>\n",
       "    </tr>\n",
       "    <tr>\n",
       "      <th>6</th>\n",
       "      <td>сотрудник</td>\n",
       "      <td>142594.40</td>\n",
       "    </tr>\n",
       "    <tr>\n",
       "      <th>7</th>\n",
       "      <td>студент</td>\n",
       "      <td>98201.63</td>\n",
       "    </tr>\n",
       "  </tbody>\n",
       "</table>\n",
       "</div>"
      ],
      "text/plain": [
       "       income_type  total_income\n",
       "0      безработный     131339.75\n",
       "1        в декрете      53829.13\n",
       "2      госслужащий     150447.94\n",
       "3        компаньон     172357.95\n",
       "4        пенсионер     118514.49\n",
       "5  предприниматель     499163.14\n",
       "6        сотрудник     142594.40\n",
       "7          студент      98201.63"
      ]
     },
     "execution_count": 12,
     "metadata": {},
     "output_type": "execute_result"
    }
   ],
   "source": [
    "median_income = clients.groupby('income_type').agg({'total_income' : 'median'}).round(2)\n",
    "median_income.reset_index()"
   ]
  },
  {
   "cell_type": "markdown",
   "id": "dbf50a24",
   "metadata": {},
   "source": [
    "Заменим пропущенные значения ежемесячного дохода на медианы по типам занятости."
   ]
  },
  {
   "cell_type": "code",
   "execution_count": 13,
   "id": "069b56ee",
   "metadata": {},
   "outputs": [],
   "source": [
    "def fillna_total_income(dataframe):\n",
    "    type_income = dataframe['income_type']\n",
    "    if pd.isnull(dataframe['total_income']):\n",
    "        return median_income.loc[type_income]\n",
    "    else:\n",
    "        return dataframe['total_income']"
   ]
  },
  {
   "cell_type": "code",
   "execution_count": 14,
   "id": "7dadea8f",
   "metadata": {
    "scrolled": true
   },
   "outputs": [],
   "source": [
    "clients['total_income'] = clients.apply(fillna_total_income, axis = 1)"
   ]
  },
  {
   "cell_type": "markdown",
   "id": "8a216a68",
   "metadata": {},
   "source": [
    "Пропуски в `total_income` заполнены. Пропусков в данных не осталось. Проверим это\n"
   ]
  },
  {
   "cell_type": "code",
   "execution_count": 15,
   "id": "127ce8b5",
   "metadata": {},
   "outputs": [
    {
     "name": "stdout",
     "output_type": "stream",
     "text": [
      "<class 'pandas.core.frame.DataFrame'>\n",
      "RangeIndex: 21525 entries, 0 to 21524\n",
      "Data columns (total 12 columns):\n",
      " #   Column            Non-Null Count  Dtype  \n",
      "---  ------            --------------  -----  \n",
      " 0   children          21525 non-null  int64  \n",
      " 1   days_employed     19351 non-null  float64\n",
      " 2   dob_years         21525 non-null  int64  \n",
      " 3   education         21525 non-null  object \n",
      " 4   education_id      21525 non-null  int64  \n",
      " 5   family_status     21525 non-null  object \n",
      " 6   family_status_id  21525 non-null  int64  \n",
      " 7   gender            21525 non-null  object \n",
      " 8   income_type       21525 non-null  object \n",
      " 9   debt              21525 non-null  int64  \n",
      " 10  total_income      21525 non-null  object \n",
      " 11  purpose           21525 non-null  object \n",
      "dtypes: float64(1), int64(5), object(6)\n",
      "memory usage: 2.0+ MB\n"
     ]
    }
   ],
   "source": [
    "clients.info()"
   ]
  },
  {
   "cell_type": "markdown",
   "id": "0bffdceb",
   "metadata": {},
   "source": [
    "#### Обработка пропусков в столбце `days_employed`\n"
   ]
  },
  {
   "cell_type": "markdown",
   "id": "19a8ca66",
   "metadata": {},
   "source": [
    "Для исправления пропущенных значений воспользуемся медианными значениями по возрасту."
   ]
  },
  {
   "cell_type": "code",
   "execution_count": 16,
   "id": "8cf3a7e1",
   "metadata": {},
   "outputs": [
    {
     "data": {
      "text/html": [
       "<div>\n",
       "<style scoped>\n",
       "    .dataframe tbody tr th:only-of-type {\n",
       "        vertical-align: middle;\n",
       "    }\n",
       "\n",
       "    .dataframe tbody tr th {\n",
       "        vertical-align: top;\n",
       "    }\n",
       "\n",
       "    .dataframe thead th {\n",
       "        text-align: right;\n",
       "    }\n",
       "</style>\n",
       "<table border=\"1\" class=\"dataframe\">\n",
       "  <thead>\n",
       "    <tr style=\"text-align: right;\">\n",
       "      <th></th>\n",
       "      <th>days_employed</th>\n",
       "    </tr>\n",
       "    <tr>\n",
       "      <th>dob_years</th>\n",
       "      <th></th>\n",
       "    </tr>\n",
       "  </thead>\n",
       "  <tbody>\n",
       "    <tr>\n",
       "      <th>0</th>\n",
       "      <td>-1146.69</td>\n",
       "    </tr>\n",
       "    <tr>\n",
       "      <th>19</th>\n",
       "      <td>-724.49</td>\n",
       "    </tr>\n",
       "    <tr>\n",
       "      <th>20</th>\n",
       "      <td>-674.84</td>\n",
       "    </tr>\n",
       "    <tr>\n",
       "      <th>21</th>\n",
       "      <td>-618.73</td>\n",
       "    </tr>\n",
       "    <tr>\n",
       "      <th>22</th>\n",
       "      <td>-698.10</td>\n",
       "    </tr>\n",
       "  </tbody>\n",
       "</table>\n",
       "</div>"
      ],
      "text/plain": [
       "           days_employed\n",
       "dob_years               \n",
       "0               -1146.69\n",
       "19               -724.49\n",
       "20               -674.84\n",
       "21               -618.73\n",
       "22               -698.10"
      ]
     },
     "execution_count": 16,
     "metadata": {},
     "output_type": "execute_result"
    }
   ],
   "source": [
    "median_days_employed = clients.groupby('dob_years').agg({'days_employed' : 'median'}).round(2)\n",
    "median_days_employed.head()"
   ]
  },
  {
   "cell_type": "code",
   "execution_count": 17,
   "id": "970a0e17",
   "metadata": {},
   "outputs": [],
   "source": [
    "def fillna_days_employed(dataframe):\n",
    "    age = dataframe['dob_years']\n",
    "    if pd.isnull(dataframe['days_employed']):\n",
    "        return median_days_employed.loc[age]\n",
    "    else:\n",
    "        return dataframe['days_employed']"
   ]
  },
  {
   "cell_type": "code",
   "execution_count": 18,
   "id": "64eff7a3",
   "metadata": {},
   "outputs": [],
   "source": [
    "clients['days_employed'] = clients.apply(fillna_days_employed, axis = 1)"
   ]
  },
  {
   "cell_type": "markdown",
   "id": "efc3d53d",
   "metadata": {},
   "source": [
    "Пропуски в `days_employed` заполнены. \n",
    "Проверим\n"
   ]
  },
  {
   "cell_type": "code",
   "execution_count": 19,
   "id": "83b7d97f",
   "metadata": {},
   "outputs": [
    {
     "name": "stdout",
     "output_type": "stream",
     "text": [
      "<class 'pandas.core.frame.DataFrame'>\n",
      "RangeIndex: 21525 entries, 0 to 21524\n",
      "Data columns (total 12 columns):\n",
      " #   Column            Non-Null Count  Dtype \n",
      "---  ------            --------------  ----- \n",
      " 0   children          21525 non-null  int64 \n",
      " 1   days_employed     21525 non-null  object\n",
      " 2   dob_years         21525 non-null  int64 \n",
      " 3   education         21525 non-null  object\n",
      " 4   education_id      21525 non-null  int64 \n",
      " 5   family_status     21525 non-null  object\n",
      " 6   family_status_id  21525 non-null  int64 \n",
      " 7   gender            21525 non-null  object\n",
      " 8   income_type       21525 non-null  object\n",
      " 9   debt              21525 non-null  int64 \n",
      " 10  total_income      21525 non-null  object\n",
      " 11  purpose           21525 non-null  object\n",
      "dtypes: int64(5), object(7)\n",
      "memory usage: 2.0+ MB\n"
     ]
    }
   ],
   "source": [
    "clients.info()"
   ]
  },
  {
   "cell_type": "markdown",
   "id": "c0f92717",
   "metadata": {},
   "source": [
    "### Замена типа данных\n",
    "\n",
    "В целом данные в таблице одержаться в подходящем типе данных. \n",
    "Переведем только данные в `total_income` и `days_employed` из 'float64' в целочисленное значение 'int'."
   ]
  },
  {
   "cell_type": "code",
   "execution_count": 20,
   "id": "81661963",
   "metadata": {},
   "outputs": [],
   "source": [
    "clients['days_employed'] = clients['days_employed'].astype('int64')\n",
    "clients['total_income'] = clients['total_income'].astype('int64')"
   ]
  },
  {
   "cell_type": "code",
   "execution_count": 21,
   "id": "6c92cbb1",
   "metadata": {
    "scrolled": true
   },
   "outputs": [
    {
     "name": "stdout",
     "output_type": "stream",
     "text": [
      "<class 'pandas.core.frame.DataFrame'>\n",
      "RangeIndex: 21525 entries, 0 to 21524\n",
      "Data columns (total 12 columns):\n",
      " #   Column            Non-Null Count  Dtype \n",
      "---  ------            --------------  ----- \n",
      " 0   children          21525 non-null  int64 \n",
      " 1   days_employed     21525 non-null  int64 \n",
      " 2   dob_years         21525 non-null  int64 \n",
      " 3   education         21525 non-null  object\n",
      " 4   education_id      21525 non-null  int64 \n",
      " 5   family_status     21525 non-null  object\n",
      " 6   family_status_id  21525 non-null  int64 \n",
      " 7   gender            21525 non-null  object\n",
      " 8   income_type       21525 non-null  object\n",
      " 9   debt              21525 non-null  int64 \n",
      " 10  total_income      21525 non-null  int64 \n",
      " 11  purpose           21525 non-null  object\n",
      "dtypes: int64(7), object(5)\n",
      "memory usage: 2.0+ MB\n"
     ]
    }
   ],
   "source": [
    "clients.info()"
   ]
  },
  {
   "cell_type": "markdown",
   "id": "33246a1e",
   "metadata": {},
   "source": [
    "Тип данных изменен"
   ]
  },
  {
   "cell_type": "markdown",
   "id": "a8088fce",
   "metadata": {},
   "source": [
    "### Исправление ошибок в данных\n",
    "\n",
    "**Столбец `children`.**\n",
    "\n",
    "Проверим сколько отрицательных значений имеется."
   ]
  },
  {
   "cell_type": "code",
   "execution_count": 22,
   "id": "de6c0d47",
   "metadata": {},
   "outputs": [
    {
     "data": {
      "text/plain": [
       "array([-1], dtype=int64)"
      ]
     },
     "execution_count": 22,
     "metadata": {},
     "output_type": "execute_result"
    }
   ],
   "source": [
    "clients[clients['children'] < 0]['children'].unique()"
   ]
  },
  {
   "cell_type": "markdown",
   "id": "86d7039b",
   "metadata": {},
   "source": [
    "Другие значения отсутствуют. Скорее всего это техническая ошибка, которую следует исправить. Берем значение по модулю."
   ]
  },
  {
   "cell_type": "code",
   "execution_count": 23,
   "id": "c4b3b289",
   "metadata": {},
   "outputs": [],
   "source": [
    "clients['children'] = clients['children'].abs()"
   ]
  },
  {
   "cell_type": "code",
   "execution_count": 24,
   "id": "3708421d",
   "metadata": {},
   "outputs": [
    {
     "data": {
      "text/plain": [
       "array([], dtype=int64)"
      ]
     },
     "execution_count": 24,
     "metadata": {},
     "output_type": "execute_result"
    }
   ],
   "source": [
    "clients[clients['children'] < 0]['children'].unique()"
   ]
  },
  {
   "cell_type": "markdown",
   "id": "3cab1b9e",
   "metadata": {},
   "source": [
    "Теперь у нас нет отрицательного количества детей"
   ]
  },
  {
   "cell_type": "markdown",
   "id": "49e977a0",
   "metadata": {},
   "source": [
    "Также можно заметить, что максимальное число детей - 20.\n",
    "Сгруппируем семьи по количеству детей."
   ]
  },
  {
   "cell_type": "code",
   "execution_count": 25,
   "id": "85a3a5aa",
   "metadata": {},
   "outputs": [
    {
     "data": {
      "text/plain": [
       "0     14149\n",
       "1      4865\n",
       "2      2055\n",
       "3       330\n",
       "20       76\n",
       "4        41\n",
       "5         9\n",
       "Name: children, dtype: int64"
      ]
     },
     "execution_count": 25,
     "metadata": {},
     "output_type": "execute_result"
    }
   ],
   "source": [
    "clients['children'].value_counts()"
   ]
  },
  {
   "cell_type": "markdown",
   "id": "0f9db962",
   "metadata": {},
   "source": [
    "20 детей встречайтся 76 раз. Это кажется странным, так как больше нет семей, где более 5 детей и менее 20.\n",
    "Предполагаю, что это ошибка при сборе данных: изначально стоял ноль, но при вводе новых данных (2) не был удален.\n",
    "Поменяем число детей на 2."
   ]
  },
  {
   "cell_type": "code",
   "execution_count": 26,
   "id": "790a6bb1",
   "metadata": {},
   "outputs": [],
   "source": [
    "clients['children'] = clients['children'].replace(20, 2)"
   ]
  },
  {
   "cell_type": "code",
   "execution_count": 27,
   "id": "5bf49ba9",
   "metadata": {
    "scrolled": true
   },
   "outputs": [
    {
     "data": {
      "text/plain": [
       "0    14149\n",
       "1     4865\n",
       "2     2131\n",
       "3      330\n",
       "4       41\n",
       "5        9\n",
       "Name: children, dtype: int64"
      ]
     },
     "execution_count": 27,
     "metadata": {},
     "output_type": "execute_result"
    }
   ],
   "source": [
    "clients['children'].value_counts()"
   ]
  },
  {
   "cell_type": "markdown",
   "id": "b4a6c1d2",
   "metadata": {},
   "source": [
    "**Столбец `dob_years`.**\n",
    "\n",
    "Найдем количество клиентов, у которых в значении возраста проставлено 0."
   ]
  },
  {
   "cell_type": "code",
   "execution_count": 28,
   "id": "12d3fbd6",
   "metadata": {
    "scrolled": true
   },
   "outputs": [
    {
     "data": {
      "text/plain": [
       "dob_years\n",
       "False    21424\n",
       "True       101\n",
       "dtype: int64"
      ]
     },
     "execution_count": 28,
     "metadata": {},
     "output_type": "execute_result"
    }
   ],
   "source": [
    "clients.value_counts(clients['dob_years'] == 0)"
   ]
  },
  {
   "cell_type": "markdown",
   "id": "4b65bc78",
   "metadata": {},
   "source": [
    "У 101 клиента неверно проставлен возраст. Предполагаю, что ошибка случайна. \n"
   ]
  },
  {
   "cell_type": "markdown",
   "id": "91d74af1",
   "metadata": {},
   "source": [
    "Найдем минимальное значение в колонке после 0."
   ]
  },
  {
   "cell_type": "code",
   "execution_count": 29,
   "id": "487cf639",
   "metadata": {},
   "outputs": [
    {
     "data": {
      "text/plain": [
       "dob_years\n",
       "19    14\n",
       "dtype: int64"
      ]
     },
     "execution_count": 29,
     "metadata": {},
     "output_type": "execute_result"
    }
   ],
   "source": [
    "clients[(clients['dob_years'] > 0) & (clients['dob_years'] < 20)].value_counts('dob_years')"
   ]
  },
  {
   "cell_type": "markdown",
   "id": "5fb53b2f",
   "metadata": {},
   "source": [
    "Заменим все нулевые значения в колонке на 17 лет. Так как минимальное после 0 в наших данных это 19 лет, мы всего лишь сдвинем минимальный возраст на более разумную границу."
   ]
  },
  {
   "cell_type": "code",
   "execution_count": 30,
   "id": "3a4c2256",
   "metadata": {},
   "outputs": [],
   "source": [
    "clients['dob_years'].replace(0, 17, inplace = True)"
   ]
  },
  {
   "cell_type": "markdown",
   "id": "8ef380dc",
   "metadata": {},
   "source": [
    "Проверим изменился ли минимальный возраст."
   ]
  },
  {
   "cell_type": "code",
   "execution_count": 31,
   "id": "d44bc439",
   "metadata": {},
   "outputs": [
    {
     "data": {
      "text/plain": [
       "17"
      ]
     },
     "execution_count": 31,
     "metadata": {},
     "output_type": "execute_result"
    }
   ],
   "source": [
    "clients['dob_years'].min()"
   ]
  },
  {
   "cell_type": "markdown",
   "id": "93b5fc56",
   "metadata": {},
   "source": [
    "**Столбец `days_employed`.**\n",
    "\n",
    "Максимально возможный стаж для человека возрастом 90 лет, если он работал с 18 лет:\n"
   ]
  },
  {
   "cell_type": "code",
   "execution_count": 32,
   "id": "0f764b55",
   "metadata": {
    "scrolled": true
   },
   "outputs": [
    {
     "data": {
      "text/plain": [
       "'26280 дней.'"
      ]
     },
     "execution_count": 32,
     "metadata": {},
     "output_type": "execute_result"
    }
   ],
   "source": [
    "f'{(90 - 18) * 365} дней.'"
   ]
  },
  {
   "cell_type": "markdown",
   "id": "0e514cac",
   "metadata": {},
   "source": [
    "Проверим есть ли в данном столбце значения большие 0, но при этом не превосходящие 26280 дней."
   ]
  },
  {
   "cell_type": "code",
   "execution_count": 33,
   "id": "fcdab7eb",
   "metadata": {},
   "outputs": [
    {
     "data": {
      "text/html": [
       "<div>\n",
       "<style scoped>\n",
       "    .dataframe tbody tr th:only-of-type {\n",
       "        vertical-align: middle;\n",
       "    }\n",
       "\n",
       "    .dataframe tbody tr th {\n",
       "        vertical-align: top;\n",
       "    }\n",
       "\n",
       "    .dataframe thead th {\n",
       "        text-align: right;\n",
       "    }\n",
       "</style>\n",
       "<table border=\"1\" class=\"dataframe\">\n",
       "  <thead>\n",
       "    <tr style=\"text-align: right;\">\n",
       "      <th></th>\n",
       "      <th>children</th>\n",
       "      <th>days_employed</th>\n",
       "      <th>dob_years</th>\n",
       "      <th>education</th>\n",
       "      <th>education_id</th>\n",
       "      <th>family_status</th>\n",
       "      <th>family_status_id</th>\n",
       "      <th>gender</th>\n",
       "      <th>income_type</th>\n",
       "      <th>debt</th>\n",
       "      <th>total_income</th>\n",
       "      <th>purpose</th>\n",
       "    </tr>\n",
       "  </thead>\n",
       "  <tbody>\n",
       "  </tbody>\n",
       "</table>\n",
       "</div>"
      ],
      "text/plain": [
       "Empty DataFrame\n",
       "Columns: [children, days_employed, dob_years, education, education_id, family_status, family_status_id, gender, income_type, debt, total_income, purpose]\n",
       "Index: []"
      ]
     },
     "execution_count": 33,
     "metadata": {},
     "output_type": "execute_result"
    }
   ],
   "source": [
    "clients[(clients['days_employed'] >= 0) & (clients['days_employed'] < 26280)]"
   ]
  },
  {
   "cell_type": "markdown",
   "id": "19e68d76",
   "metadata": {},
   "source": [
    "Таких значений нет, следовательно, в столбце указаны отрицательные знаения или значения, превосходящие человеческие возможности.\n",
    "\n",
    "Можно предположить, что в данных произошла ошибка, при которой данные стали отрицательными или при сборе информации были введены неверные значения.\n",
    "\n",
    "Приведем отрицательные значения к положительному путем отброса минуса и заменим экстремальные значения максимально возможным стажем."
   ]
  },
  {
   "cell_type": "markdown",
   "id": "f84e9412",
   "metadata": {},
   "source": [
    "Напишем функцию, которая высчитывает максимальный рабочий стаж.\n"
   ]
  },
  {
   "cell_type": "code",
   "execution_count": 34,
   "id": "d78c79db",
   "metadata": {},
   "outputs": [],
   "source": [
    "def max_employed(dataframe):\n",
    "    '''Функция выполняет поиск максимального трудового стажа.\n",
    "    Если стаж больше максимального, то\n",
    "    функция возвращает максимально возможный стаж,\n",
    "    основываясь на возраст человека, в противном случае\n",
    "    возвращает положительное значение исходного трудового стажа\n",
    "    '''\n",
    "    current_days_employed = dataframe['days_employed']\n",
    "    if dataframe['dob_years'] > 65:\n",
    "        max_years = 65\n",
    "    else:\n",
    "        max_years = dataframe['dob_years']\n",
    "            \n",
    "    \n",
    "    max_days_employed = (max_years - 14) * 365\n",
    "\n",
    "    if current_days_employed > max_days_employed:\n",
    "        return max_days_employed\n",
    "    elif current_days_employed < 0:\n",
    "        return current_days_employed * -1\n",
    "    else:\n",
    "        return current_days_employed"
   ]
  },
  {
   "cell_type": "code",
   "execution_count": 35,
   "id": "5ed21975",
   "metadata": {},
   "outputs": [],
   "source": [
    "clients['days_employed'] = clients.apply(max_employed, axis = 1)"
   ]
  },
  {
   "cell_type": "markdown",
   "id": "9e694162",
   "metadata": {},
   "source": [
    "Проверим изменения"
   ]
  },
  {
   "cell_type": "code",
   "execution_count": 36,
   "id": "60119101",
   "metadata": {
    "scrolled": true
   },
   "outputs": [
    {
     "data": {
      "text/html": [
       "<div>\n",
       "<style scoped>\n",
       "    .dataframe tbody tr th:only-of-type {\n",
       "        vertical-align: middle;\n",
       "    }\n",
       "\n",
       "    .dataframe tbody tr th {\n",
       "        vertical-align: top;\n",
       "    }\n",
       "\n",
       "    .dataframe thead th {\n",
       "        text-align: right;\n",
       "    }\n",
       "</style>\n",
       "<table border=\"1\" class=\"dataframe\">\n",
       "  <thead>\n",
       "    <tr style=\"text-align: right;\">\n",
       "      <th></th>\n",
       "      <th>children</th>\n",
       "      <th>days_employed</th>\n",
       "      <th>dob_years</th>\n",
       "      <th>education_id</th>\n",
       "      <th>family_status_id</th>\n",
       "      <th>debt</th>\n",
       "      <th>total_income</th>\n",
       "    </tr>\n",
       "  </thead>\n",
       "  <tbody>\n",
       "    <tr>\n",
       "      <th>count</th>\n",
       "      <td>21525.000000</td>\n",
       "      <td>21525.000000</td>\n",
       "      <td>21525.000000</td>\n",
       "      <td>21525.000000</td>\n",
       "      <td>21525.000000</td>\n",
       "      <td>21525.000000</td>\n",
       "      <td>2.152500e+04</td>\n",
       "    </tr>\n",
       "    <tr>\n",
       "      <th>mean</th>\n",
       "      <td>0.479721</td>\n",
       "      <td>4799.033728</td>\n",
       "      <td>43.373148</td>\n",
       "      <td>0.817236</td>\n",
       "      <td>0.972544</td>\n",
       "      <td>0.080883</td>\n",
       "      <td>1.652248e+05</td>\n",
       "    </tr>\n",
       "    <tr>\n",
       "      <th>std</th>\n",
       "      <td>0.755528</td>\n",
       "      <td>5853.080194</td>\n",
       "      <td>12.351630</td>\n",
       "      <td>0.548138</td>\n",
       "      <td>1.420324</td>\n",
       "      <td>0.272661</td>\n",
       "      <td>9.804367e+04</td>\n",
       "    </tr>\n",
       "    <tr>\n",
       "      <th>min</th>\n",
       "      <td>0.000000</td>\n",
       "      <td>24.000000</td>\n",
       "      <td>17.000000</td>\n",
       "      <td>0.000000</td>\n",
       "      <td>0.000000</td>\n",
       "      <td>0.000000</td>\n",
       "      <td>2.066700e+04</td>\n",
       "    </tr>\n",
       "    <tr>\n",
       "      <th>25%</th>\n",
       "      <td>0.000000</td>\n",
       "      <td>974.000000</td>\n",
       "      <td>33.000000</td>\n",
       "      <td>1.000000</td>\n",
       "      <td>0.000000</td>\n",
       "      <td>0.000000</td>\n",
       "      <td>1.077980e+05</td>\n",
       "    </tr>\n",
       "    <tr>\n",
       "      <th>50%</th>\n",
       "      <td>0.000000</td>\n",
       "      <td>2008.000000</td>\n",
       "      <td>42.000000</td>\n",
       "      <td>1.000000</td>\n",
       "      <td>0.000000</td>\n",
       "      <td>0.000000</td>\n",
       "      <td>1.425940e+05</td>\n",
       "    </tr>\n",
       "    <tr>\n",
       "      <th>75%</th>\n",
       "      <td>1.000000</td>\n",
       "      <td>5293.000000</td>\n",
       "      <td>53.000000</td>\n",
       "      <td>1.000000</td>\n",
       "      <td>1.000000</td>\n",
       "      <td>0.000000</td>\n",
       "      <td>1.955490e+05</td>\n",
       "    </tr>\n",
       "    <tr>\n",
       "      <th>max</th>\n",
       "      <td>5.000000</td>\n",
       "      <td>18615.000000</td>\n",
       "      <td>75.000000</td>\n",
       "      <td>4.000000</td>\n",
       "      <td>4.000000</td>\n",
       "      <td>1.000000</td>\n",
       "      <td>2.265604e+06</td>\n",
       "    </tr>\n",
       "  </tbody>\n",
       "</table>\n",
       "</div>"
      ],
      "text/plain": [
       "           children  days_employed     dob_years  education_id  \\\n",
       "count  21525.000000   21525.000000  21525.000000  21525.000000   \n",
       "mean       0.479721    4799.033728     43.373148      0.817236   \n",
       "std        0.755528    5853.080194     12.351630      0.548138   \n",
       "min        0.000000      24.000000     17.000000      0.000000   \n",
       "25%        0.000000     974.000000     33.000000      1.000000   \n",
       "50%        0.000000    2008.000000     42.000000      1.000000   \n",
       "75%        1.000000    5293.000000     53.000000      1.000000   \n",
       "max        5.000000   18615.000000     75.000000      4.000000   \n",
       "\n",
       "       family_status_id          debt  total_income  \n",
       "count      21525.000000  21525.000000  2.152500e+04  \n",
       "mean           0.972544      0.080883  1.652248e+05  \n",
       "std            1.420324      0.272661  9.804367e+04  \n",
       "min            0.000000      0.000000  2.066700e+04  \n",
       "25%            0.000000      0.000000  1.077980e+05  \n",
       "50%            0.000000      0.000000  1.425940e+05  \n",
       "75%            1.000000      0.000000  1.955490e+05  \n",
       "max            4.000000      1.000000  2.265604e+06  "
      ]
     },
     "execution_count": 36,
     "metadata": {},
     "output_type": "execute_result"
    }
   ],
   "source": [
    "clients.describe()"
   ]
  },
  {
   "cell_type": "markdown",
   "id": "2eaaf141",
   "metadata": {
    "id": "BWKRtBJ3_Zct"
   },
   "source": [
    "### Обработка дубликатов\n",
    "\n",
    "\n",
    "Посчитаем явные дубликаты в таблице"
   ]
  },
  {
   "cell_type": "code",
   "execution_count": 37,
   "id": "7b03ec9a",
   "metadata": {
    "id": "36eES_S0_Zct"
   },
   "outputs": [
    {
     "data": {
      "text/plain": [
       "54"
      ]
     },
     "execution_count": 37,
     "metadata": {},
     "output_type": "execute_result"
    }
   ],
   "source": [
    "clients.duplicated().sum()"
   ]
  },
  {
   "cell_type": "markdown",
   "id": "85e13e0c",
   "metadata": {
    "id": "Ot25h6XR_Zct"
   },
   "source": [
    "Удаление дубликатов"
   ]
  },
  {
   "cell_type": "code",
   "execution_count": 38,
   "id": "85d292ca",
   "metadata": {
    "id": "exFHq6tt_Zct"
   },
   "outputs": [],
   "source": [
    "clients = clients.drop_duplicates().reset_index(drop=True)"
   ]
  },
  {
   "cell_type": "markdown",
   "id": "74a53e82",
   "metadata": {
    "id": "Im2YwBEG_Zct"
   },
   "source": [
    "Проверяем удалились ли все дубликаты"
   ]
  },
  {
   "cell_type": "code",
   "execution_count": 39,
   "id": "a2ba9fe3",
   "metadata": {
    "id": "-8PuNWQ0_Zct"
   },
   "outputs": [
    {
     "data": {
      "text/plain": [
       "0"
      ]
     },
     "execution_count": 39,
     "metadata": {},
     "output_type": "execute_result"
    }
   ],
   "source": [
    "clients.duplicated().sum()"
   ]
  },
  {
   "cell_type": "markdown",
   "id": "abed07f4",
   "metadata": {
    "id": "QlFBsxAr_Zct"
   },
   "source": [
    "Теперь необходимо исправить неявные дубликаты в колонке `education`. \n",
    "Приведем данные к одному регистру."
   ]
  },
  {
   "cell_type": "code",
   "execution_count": 40,
   "id": "d14d7188",
   "metadata": {
    "id": "JIUcqzZN_Zct"
   },
   "outputs": [
    {
     "data": {
      "text/plain": [
       "array(['высшее', 'среднее', 'Среднее', 'СРЕДНЕЕ', 'ВЫСШЕЕ',\n",
       "       'неоконченное высшее', 'начальное', 'Высшее',\n",
       "       'НЕОКОНЧЕННОЕ ВЫСШЕЕ', 'Неоконченное высшее', 'НАЧАЛЬНОЕ',\n",
       "       'Начальное', 'Ученая степень', 'УЧЕНАЯ СТЕПЕНЬ', 'ученая степень'],\n",
       "      dtype=object)"
      ]
     },
     "execution_count": 40,
     "metadata": {},
     "output_type": "execute_result"
    }
   ],
   "source": [
    "clients['education'].unique()"
   ]
  },
  {
   "cell_type": "code",
   "execution_count": 41,
   "id": "194d09a6",
   "metadata": {},
   "outputs": [],
   "source": [
    "clients['education'] = clients['education'].str.lower()"
   ]
  },
  {
   "cell_type": "code",
   "execution_count": 42,
   "id": "cb54dabd",
   "metadata": {},
   "outputs": [
    {
     "data": {
      "text/plain": [
       "array(['высшее', 'среднее', 'неоконченное высшее', 'начальное',\n",
       "       'ученая степень'], dtype=object)"
      ]
     },
     "execution_count": 42,
     "metadata": {},
     "output_type": "execute_result"
    }
   ],
   "source": [
    "clients['education'].unique()"
   ]
  },
  {
   "cell_type": "markdown",
   "id": "b06ce6da",
   "metadata": {},
   "source": [
    "Проверим `family_status` на наличие неявных дубликатов."
   ]
  },
  {
   "cell_type": "code",
   "execution_count": 43,
   "id": "5fcc8dd2",
   "metadata": {},
   "outputs": [
    {
     "data": {
      "text/plain": [
       "array(['женат / замужем', 'гражданский брак', 'вдовец / вдова',\n",
       "       'в разводе', 'Не женат / не замужем'], dtype=object)"
      ]
     },
     "execution_count": 43,
     "metadata": {},
     "output_type": "execute_result"
    }
   ],
   "source": [
    "clients['family_status'].unique()"
   ]
  },
  {
   "cell_type": "markdown",
   "id": "83bd233a",
   "metadata": {},
   "source": [
    "Тут все хорошо, но приведем все к нижнему регистру"
   ]
  },
  {
   "cell_type": "code",
   "execution_count": 44,
   "id": "596c2be3",
   "metadata": {},
   "outputs": [],
   "source": [
    "clients['family_status'] = clients['family_status'].str.lower()"
   ]
  },
  {
   "cell_type": "code",
   "execution_count": 45,
   "id": "cacb6bd3",
   "metadata": {},
   "outputs": [
    {
     "data": {
      "text/plain": [
       "array(['женат / замужем', 'гражданский брак', 'вдовец / вдова',\n",
       "       'в разводе', 'не женат / не замужем'], dtype=object)"
      ]
     },
     "execution_count": 45,
     "metadata": {},
     "output_type": "execute_result"
    }
   ],
   "source": [
    "clients['family_status'].unique()"
   ]
  },
  {
   "cell_type": "markdown",
   "id": "61a37a04",
   "metadata": {},
   "source": [
    "### Вывод\n",
    "\n",
    "\n",
    "- Были обработаны пропущенные значения по ежемесячному доходу на основе медиан для каждого типа занятости;\n",
    "- Обработаны пропущенные значения в данных по трудовому стажу на основе медиан для каждой возрастной категории;\n",
    "- Произведена замина типа данных на более удобный;\n",
    "- Исправлены отрицательное и максимальное количество детей;\n",
    "- Исправлены значения нулевого возраста;\n",
    "- Максимальное значение трудового стажа приведено к реальному, основываясь на возрасте человека;\n",
    "- Отрицательные значения трудового стажа приведены к положительному начению;\n",
    "- Явные дубликаты были удалены, неявные приведены к общему регистру.\n"
   ]
  },
  {
   "cell_type": "markdown",
   "id": "a4d8cfb1",
   "metadata": {},
   "source": [
    "## Лемматизация"
   ]
  },
  {
   "cell_type": "markdown",
   "id": "5dc62d72",
   "metadata": {},
   "source": [
    "Столбец `purpose` содержит данные о цели кредита, описанные разными словами. Поэтому его следует лемматизировать и на основе его создать новый столбец с категориями.\n",
    "\n",
    "Загрузим необходимую библиотеку. \n",
    "Выведем список уникальных целей."
   ]
  },
  {
   "cell_type": "code",
   "execution_count": 46,
   "id": "602931e5",
   "metadata": {
    "scrolled": true
   },
   "outputs": [],
   "source": [
    "from nltk.stem import SnowballStemmer \n"
   ]
  },
  {
   "cell_type": "code",
   "execution_count": 47,
   "id": "3e315078",
   "metadata": {
    "scrolled": true
   },
   "outputs": [
    {
     "data": {
      "text/plain": [
       "свадьба                                   793\n",
       "на проведение свадьбы                     773\n",
       "сыграть свадьбу                           769\n",
       "операции с недвижимостью                  675\n",
       "покупка коммерческой недвижимости         662\n",
       "покупка жилья для сдачи                   652\n",
       "операции с жильем                         652\n",
       "операции с коммерческой недвижимостью     650\n",
       "покупка жилья                             646\n",
       "жилье                                     646\n",
       "покупка жилья для семьи                   638\n",
       "строительство собственной недвижимости    635\n",
       "недвижимость                              633\n",
       "операции со своей недвижимостью           627\n",
       "строительство жилой недвижимости          625\n",
       "покупка недвижимости                      621\n",
       "покупка своего жилья                      620\n",
       "строительство недвижимости                619\n",
       "ремонт жилью                              607\n",
       "покупка жилой недвижимости                606\n",
       "на покупку своего автомобиля              505\n",
       "заняться высшим образованием              496\n",
       "автомобиль                                494\n",
       "сделка с подержанным автомобилем          486\n",
       "свой автомобиль                           479\n",
       "на покупку подержанного автомобиля        478\n",
       "автомобили                                478\n",
       "на покупку автомобиля                     472\n",
       "приобретение автомобиля                   461\n",
       "дополнительное образование                460\n",
       "сделка с автомобилем                      455\n",
       "высшее образование                        452\n",
       "образование                               447\n",
       "получение дополнительного образования     447\n",
       "получение образования                     442\n",
       "профильное образование                    436\n",
       "получение высшего образования             426\n",
       "заняться образованием                     408\n",
       "Name: purpose, dtype: int64"
      ]
     },
     "execution_count": 47,
     "metadata": {},
     "output_type": "execute_result"
    }
   ],
   "source": [
    "clients['purpose'].value_counts()"
   ]
  },
  {
   "cell_type": "markdown",
   "id": "967c6ac2",
   "metadata": {},
   "source": [
    "Среди всех возможных целей получения кредита можно выделить следующие ключевые слова, которые отражают главную цель.\n",
    "\n",
    "\"жилье\", \"образование\", \"свадьба\", \"недвижимость\", \"автомобиль\" (\"жилье\" отнесем к категории \"недвижимость\")"
   ]
  },
  {
   "cell_type": "code",
   "execution_count": 49,
   "id": "be02966c",
   "metadata": {},
   "outputs": [],
   "source": [
    "russian_stemmer = SnowballStemmer('russian')"
   ]
  },
  {
   "cell_type": "code",
   "execution_count": 50,
   "id": "7305fe80",
   "metadata": {},
   "outputs": [],
   "source": [
    "def group_purpose(row):\n",
    "    purpose_group = row['purpose']\n",
    "    if 'недвиж'  in russian_stemmer.stem(purpose_group):\n",
    "        return 'недвижимость'\n",
    "    elif 'жил'  in russian_stemmer.stem(purpose_group):\n",
    "        return 'недвижимость'\n",
    "    elif 'авто' in russian_stemmer.stem(purpose_group):\n",
    "        return 'автомобиль'\n",
    "    elif 'образ' in russian_stemmer.stem(purpose_group):\n",
    "        return 'образование'\n",
    "    elif 'свад' in russian_stemmer.stem(purpose_group):\n",
    "        return 'свадьба'\n",
    "    else:\n",
    "        return purpose_group"
   ]
  },
  {
   "cell_type": "code",
   "execution_count": 51,
   "id": "a33711f5",
   "metadata": {},
   "outputs": [],
   "source": [
    "clients['purpose_grouped'] = clients.apply(group_purpose, axis = 1)\n"
   ]
  },
  {
   "cell_type": "code",
   "execution_count": 52,
   "id": "c61a5c7b",
   "metadata": {
    "scrolled": true
   },
   "outputs": [
    {
     "data": {
      "text/plain": [
       "array(['недвижимость', 'автомобиль', 'образование', 'свадьба'],\n",
       "      dtype=object)"
      ]
     },
     "execution_count": 52,
     "metadata": {},
     "output_type": "execute_result"
    }
   ],
   "source": [
    "clients['purpose_grouped'].unique()"
   ]
  },
  {
   "cell_type": "code",
   "execution_count": 54,
   "id": "8b258be5",
   "metadata": {},
   "outputs": [
    {
     "data": {
      "text/html": [
       "<div>\n",
       "<style scoped>\n",
       "    .dataframe tbody tr th:only-of-type {\n",
       "        vertical-align: middle;\n",
       "    }\n",
       "\n",
       "    .dataframe tbody tr th {\n",
       "        vertical-align: top;\n",
       "    }\n",
       "\n",
       "    .dataframe thead th {\n",
       "        text-align: right;\n",
       "    }\n",
       "</style>\n",
       "<table border=\"1\" class=\"dataframe\">\n",
       "  <thead>\n",
       "    <tr style=\"text-align: right;\">\n",
       "      <th></th>\n",
       "      <th>children</th>\n",
       "      <th>days_employed</th>\n",
       "      <th>dob_years</th>\n",
       "      <th>education</th>\n",
       "      <th>education_id</th>\n",
       "      <th>family_status</th>\n",
       "      <th>family_status_id</th>\n",
       "      <th>gender</th>\n",
       "      <th>income_type</th>\n",
       "      <th>debt</th>\n",
       "      <th>total_income</th>\n",
       "      <th>purpose</th>\n",
       "      <th>purpose_grouped</th>\n",
       "    </tr>\n",
       "  </thead>\n",
       "  <tbody>\n",
       "    <tr>\n",
       "      <th>0</th>\n",
       "      <td>1</td>\n",
       "      <td>8437</td>\n",
       "      <td>42</td>\n",
       "      <td>высшее</td>\n",
       "      <td>0</td>\n",
       "      <td>женат / замужем</td>\n",
       "      <td>0</td>\n",
       "      <td>F</td>\n",
       "      <td>сотрудник</td>\n",
       "      <td>0</td>\n",
       "      <td>253875</td>\n",
       "      <td>покупка жилья</td>\n",
       "      <td>недвижимость</td>\n",
       "    </tr>\n",
       "    <tr>\n",
       "      <th>1</th>\n",
       "      <td>1</td>\n",
       "      <td>4024</td>\n",
       "      <td>36</td>\n",
       "      <td>среднее</td>\n",
       "      <td>1</td>\n",
       "      <td>женат / замужем</td>\n",
       "      <td>0</td>\n",
       "      <td>F</td>\n",
       "      <td>сотрудник</td>\n",
       "      <td>0</td>\n",
       "      <td>112080</td>\n",
       "      <td>приобретение автомобиля</td>\n",
       "      <td>автомобиль</td>\n",
       "    </tr>\n",
       "    <tr>\n",
       "      <th>2</th>\n",
       "      <td>0</td>\n",
       "      <td>5623</td>\n",
       "      <td>33</td>\n",
       "      <td>среднее</td>\n",
       "      <td>1</td>\n",
       "      <td>женат / замужем</td>\n",
       "      <td>0</td>\n",
       "      <td>M</td>\n",
       "      <td>сотрудник</td>\n",
       "      <td>0</td>\n",
       "      <td>145885</td>\n",
       "      <td>покупка жилья</td>\n",
       "      <td>недвижимость</td>\n",
       "    </tr>\n",
       "    <tr>\n",
       "      <th>3</th>\n",
       "      <td>3</td>\n",
       "      <td>4124</td>\n",
       "      <td>32</td>\n",
       "      <td>среднее</td>\n",
       "      <td>1</td>\n",
       "      <td>женат / замужем</td>\n",
       "      <td>0</td>\n",
       "      <td>M</td>\n",
       "      <td>сотрудник</td>\n",
       "      <td>0</td>\n",
       "      <td>267628</td>\n",
       "      <td>дополнительное образование</td>\n",
       "      <td>образование</td>\n",
       "    </tr>\n",
       "    <tr>\n",
       "      <th>4</th>\n",
       "      <td>0</td>\n",
       "      <td>14235</td>\n",
       "      <td>53</td>\n",
       "      <td>среднее</td>\n",
       "      <td>1</td>\n",
       "      <td>гражданский брак</td>\n",
       "      <td>1</td>\n",
       "      <td>F</td>\n",
       "      <td>пенсионер</td>\n",
       "      <td>0</td>\n",
       "      <td>158616</td>\n",
       "      <td>сыграть свадьбу</td>\n",
       "      <td>свадьба</td>\n",
       "    </tr>\n",
       "    <tr>\n",
       "      <th>5</th>\n",
       "      <td>0</td>\n",
       "      <td>926</td>\n",
       "      <td>27</td>\n",
       "      <td>высшее</td>\n",
       "      <td>0</td>\n",
       "      <td>гражданский брак</td>\n",
       "      <td>1</td>\n",
       "      <td>M</td>\n",
       "      <td>компаньон</td>\n",
       "      <td>0</td>\n",
       "      <td>255763</td>\n",
       "      <td>покупка жилья</td>\n",
       "      <td>недвижимость</td>\n",
       "    </tr>\n",
       "    <tr>\n",
       "      <th>6</th>\n",
       "      <td>0</td>\n",
       "      <td>2879</td>\n",
       "      <td>43</td>\n",
       "      <td>высшее</td>\n",
       "      <td>0</td>\n",
       "      <td>женат / замужем</td>\n",
       "      <td>0</td>\n",
       "      <td>F</td>\n",
       "      <td>компаньон</td>\n",
       "      <td>0</td>\n",
       "      <td>240525</td>\n",
       "      <td>операции с жильем</td>\n",
       "      <td>недвижимость</td>\n",
       "    </tr>\n",
       "    <tr>\n",
       "      <th>7</th>\n",
       "      <td>0</td>\n",
       "      <td>152</td>\n",
       "      <td>50</td>\n",
       "      <td>среднее</td>\n",
       "      <td>1</td>\n",
       "      <td>женат / замужем</td>\n",
       "      <td>0</td>\n",
       "      <td>M</td>\n",
       "      <td>сотрудник</td>\n",
       "      <td>0</td>\n",
       "      <td>135823</td>\n",
       "      <td>образование</td>\n",
       "      <td>образование</td>\n",
       "    </tr>\n",
       "    <tr>\n",
       "      <th>8</th>\n",
       "      <td>2</td>\n",
       "      <td>6929</td>\n",
       "      <td>35</td>\n",
       "      <td>высшее</td>\n",
       "      <td>0</td>\n",
       "      <td>гражданский брак</td>\n",
       "      <td>1</td>\n",
       "      <td>F</td>\n",
       "      <td>сотрудник</td>\n",
       "      <td>0</td>\n",
       "      <td>95856</td>\n",
       "      <td>на проведение свадьбы</td>\n",
       "      <td>свадьба</td>\n",
       "    </tr>\n",
       "    <tr>\n",
       "      <th>9</th>\n",
       "      <td>0</td>\n",
       "      <td>2188</td>\n",
       "      <td>41</td>\n",
       "      <td>среднее</td>\n",
       "      <td>1</td>\n",
       "      <td>женат / замужем</td>\n",
       "      <td>0</td>\n",
       "      <td>M</td>\n",
       "      <td>сотрудник</td>\n",
       "      <td>0</td>\n",
       "      <td>144425</td>\n",
       "      <td>покупка жилья для семьи</td>\n",
       "      <td>недвижимость</td>\n",
       "    </tr>\n",
       "  </tbody>\n",
       "</table>\n",
       "</div>"
      ],
      "text/plain": [
       "   children  days_employed  dob_years education  education_id  \\\n",
       "0         1           8437         42    высшее             0   \n",
       "1         1           4024         36   среднее             1   \n",
       "2         0           5623         33   среднее             1   \n",
       "3         3           4124         32   среднее             1   \n",
       "4         0          14235         53   среднее             1   \n",
       "5         0            926         27    высшее             0   \n",
       "6         0           2879         43    высшее             0   \n",
       "7         0            152         50   среднее             1   \n",
       "8         2           6929         35    высшее             0   \n",
       "9         0           2188         41   среднее             1   \n",
       "\n",
       "      family_status  family_status_id gender income_type  debt  total_income  \\\n",
       "0   женат / замужем                 0      F   сотрудник     0        253875   \n",
       "1   женат / замужем                 0      F   сотрудник     0        112080   \n",
       "2   женат / замужем                 0      M   сотрудник     0        145885   \n",
       "3   женат / замужем                 0      M   сотрудник     0        267628   \n",
       "4  гражданский брак                 1      F   пенсионер     0        158616   \n",
       "5  гражданский брак                 1      M   компаньон     0        255763   \n",
       "6   женат / замужем                 0      F   компаньон     0        240525   \n",
       "7   женат / замужем                 0      M   сотрудник     0        135823   \n",
       "8  гражданский брак                 1      F   сотрудник     0         95856   \n",
       "9   женат / замужем                 0      M   сотрудник     0        144425   \n",
       "\n",
       "                      purpose purpose_grouped  \n",
       "0               покупка жилья    недвижимость  \n",
       "1     приобретение автомобиля      автомобиль  \n",
       "2               покупка жилья    недвижимость  \n",
       "3  дополнительное образование     образование  \n",
       "4             сыграть свадьбу         свадьба  \n",
       "5               покупка жилья    недвижимость  \n",
       "6           операции с жильем    недвижимость  \n",
       "7                 образование     образование  \n",
       "8       на проведение свадьбы         свадьба  \n",
       "9     покупка жилья для семьи    недвижимость  "
      ]
     },
     "execution_count": 54,
     "metadata": {},
     "output_type": "execute_result"
    }
   ],
   "source": [
    "clients.head(10)"
   ]
  },
  {
   "cell_type": "code",
   "execution_count": 58,
   "id": "233cd64a",
   "metadata": {},
   "outputs": [
    {
     "name": "stdout",
     "output_type": "stream",
     "text": [
      "<class 'pandas.core.frame.DataFrame'>\n",
      "RangeIndex: 21454 entries, 0 to 21453\n",
      "Data columns (total 13 columns):\n",
      " #   Column            Non-Null Count  Dtype \n",
      "---  ------            --------------  ----- \n",
      " 0   children          21454 non-null  int64 \n",
      " 1   days_employed     21454 non-null  int64 \n",
      " 2   dob_years         21454 non-null  int64 \n",
      " 3   education         21454 non-null  object\n",
      " 4   education_id      21454 non-null  int64 \n",
      " 5   family_status     21454 non-null  object\n",
      " 6   family_status_id  21454 non-null  int64 \n",
      " 7   gender            21454 non-null  object\n",
      " 8   income_type       21454 non-null  object\n",
      " 9   debt              21454 non-null  int64 \n",
      " 10  total_income      21454 non-null  int64 \n",
      " 11  purpose           21454 non-null  object\n",
      " 12  purpose_grouped   21454 non-null  object\n",
      "dtypes: int64(7), object(6)\n",
      "memory usage: 2.1+ MB\n"
     ]
    }
   ],
   "source": [
    "clients.info()"
   ]
  },
  {
   "cell_type": "markdown",
   "id": "8ad74c4f",
   "metadata": {},
   "source": [
    "Проверим не вызвало ли это появление новых дубликатов."
   ]
  },
  {
   "cell_type": "code",
   "execution_count": 55,
   "id": "7a7c523e",
   "metadata": {
    "scrolled": true
   },
   "outputs": [
    {
     "data": {
      "text/plain": [
       "17"
      ]
     },
     "execution_count": 55,
     "metadata": {},
     "output_type": "execute_result"
    }
   ],
   "source": [
    "clients.duplicated().sum()"
   ]
  },
  {
   "cell_type": "markdown",
   "id": "d35c2c66",
   "metadata": {},
   "source": [
    "Удалим дубликаты"
   ]
  },
  {
   "cell_type": "code",
   "execution_count": 56,
   "id": "eaf883c6",
   "metadata": {},
   "outputs": [],
   "source": [
    "clients = clients.drop_duplicates().reset_index(drop = True)"
   ]
  },
  {
   "cell_type": "code",
   "execution_count": 57,
   "id": "0defac93",
   "metadata": {
    "scrolled": true
   },
   "outputs": [
    {
     "data": {
      "text/plain": [
       "0"
      ]
     },
     "execution_count": 57,
     "metadata": {},
     "output_type": "execute_result"
    }
   ],
   "source": [
    "clients.duplicated().sum()"
   ]
  },
  {
   "cell_type": "markdown",
   "id": "38a8fae4",
   "metadata": {},
   "source": [
    "### Вывод"
   ]
  },
  {
   "cell_type": "markdown",
   "id": "d43c034c",
   "metadata": {},
   "source": [
    "Мы видели, что в столбце purpose находились дублирующие причины, которые отличались формулировкой, поэтому причины стоило свести к одним и тем же категориям.\n"
   ]
  },
  {
   "cell_type": "markdown",
   "id": "cbb0b829",
   "metadata": {},
   "source": [
    "## Категоризация данных"
   ]
  },
  {
   "cell_type": "markdown",
   "id": "1f4a8af1",
   "metadata": {},
   "source": [
    "### Катетеризация по количеству детей.\n",
    "\n",
    "Разделим данные на группы \"семьи без детей\", \"1-2 ребенка\" и \"многодетные\". \n",
    "Напишем для этого функцию\n"
   ]
  },
  {
   "cell_type": "code",
   "execution_count": 68,
   "id": "424c799f",
   "metadata": {},
   "outputs": [],
   "source": [
    "def count_of_child(row):\n",
    "    if row == 0:\n",
    "        return 'семьи без детей'\n",
    "    elif row == 1 or row == 2:\n",
    "        return  '1-2 ребенка'\n",
    "    else:\n",
    "        return 'многодетные'"
   ]
  },
  {
   "cell_type": "code",
   "execution_count": 69,
   "id": "9766f146",
   "metadata": {},
   "outputs": [],
   "source": [
    "clients['type_of_family'] = clients['children'].apply(count_of_child)"
   ]
  },
  {
   "cell_type": "markdown",
   "id": "885d4585",
   "metadata": {},
   "source": [
    "### Категоризация по доходам\n",
    "\n",
    "Для ответа на поставленные вопросы потребуется провести категоризацию по доходам.\n",
    "\n",
    "Для этого воспользуемся квантилями 25%, 50% и 75%\n",
    "\n",
    "1. 0% - 25%: низкая\n",
    "2. 25% - 75%: средняя\n",
    "3. 75% - 100%: высокая"
   ]
  },
  {
   "cell_type": "code",
   "execution_count": 61,
   "id": "2274b816",
   "metadata": {},
   "outputs": [
    {
     "data": {
      "text/plain": [
       "count      21454\n",
       "mean      165319\n",
       "std        98187\n",
       "min        20667\n",
       "25%       107623\n",
       "50%       142594\n",
       "75%       195820\n",
       "max      2265604\n",
       "Name: total_income, dtype: int64"
      ]
     },
     "execution_count": 61,
     "metadata": {},
     "output_type": "execute_result"
    }
   ],
   "source": [
    "clients['total_income'].describe().astype('int64')"
   ]
  },
  {
   "cell_type": "markdown",
   "id": "6da47441",
   "metadata": {},
   "source": [
    "Напишем функцию для категоризации заработных плат\n",
    "\n"
   ]
  },
  {
   "cell_type": "code",
   "execution_count": 103,
   "id": "60154389",
   "metadata": {},
   "outputs": [],
   "source": [
    "def classify_total_income(income):\n",
    "    if income <= 107623:\n",
    "        return 'низкая'\n",
    "    elif 107623 < income <= 142594:\n",
    "        return \"средняя\"\n",
    "    else:\n",
    "        return \"высокая\""
   ]
  },
  {
   "cell_type": "code",
   "execution_count": 104,
   "id": "08aefabf",
   "metadata": {},
   "outputs": [],
   "source": [
    "clients['total_income_status'] = clients['total_income'].apply(classify_total_income)"
   ]
  },
  {
   "cell_type": "markdown",
   "id": "46ee8c1b",
   "metadata": {},
   "source": [
    "### Категоризация по возрасту\n",
    "\n",
    "Также проведем категоризацию по возрасту."
   ]
  },
  {
   "cell_type": "code",
   "execution_count": 74,
   "id": "36b8f7ad",
   "metadata": {},
   "outputs": [
    {
     "data": {
      "text/plain": [
       "count    21454\n",
       "mean        43\n",
       "std         12\n",
       "min         17\n",
       "25%         33\n",
       "50%         42\n",
       "75%         53\n",
       "max         75\n",
       "Name: dob_years, dtype: int64"
      ]
     },
     "execution_count": 74,
     "metadata": {},
     "output_type": "execute_result"
    }
   ],
   "source": [
    "clients['dob_years'].describe().astype('int64')"
   ]
  },
  {
   "cell_type": "code",
   "execution_count": 75,
   "id": "5684e358",
   "metadata": {},
   "outputs": [],
   "source": [
    "def classify_by_age(age):\n",
    "    if age <= 30:\n",
    "        return 'до 30 лет'\n",
    "    elif 30 < age <= 45:\n",
    "        return \"30-45 лет\"\n",
    "    elif 45 < age <= 65:\n",
    "        return \"45-65 лет\"\n",
    "    else:\n",
    "        return \"старше 65 лет\""
   ]
  },
  {
   "cell_type": "code",
   "execution_count": 76,
   "id": "d272ab26",
   "metadata": {},
   "outputs": [],
   "source": [
    "clients['dob_years_cat'] = clients['dob_years'].apply(classify_by_age)"
   ]
  },
  {
   "cell_type": "code",
   "execution_count": 77,
   "id": "ebfab499",
   "metadata": {},
   "outputs": [
    {
     "data": {
      "text/html": [
       "<div>\n",
       "<style scoped>\n",
       "    .dataframe tbody tr th:only-of-type {\n",
       "        vertical-align: middle;\n",
       "    }\n",
       "\n",
       "    .dataframe tbody tr th {\n",
       "        vertical-align: top;\n",
       "    }\n",
       "\n",
       "    .dataframe thead th {\n",
       "        text-align: right;\n",
       "    }\n",
       "</style>\n",
       "<table border=\"1\" class=\"dataframe\">\n",
       "  <thead>\n",
       "    <tr style=\"text-align: right;\">\n",
       "      <th></th>\n",
       "      <th>children</th>\n",
       "      <th>days_employed</th>\n",
       "      <th>dob_years</th>\n",
       "      <th>education</th>\n",
       "      <th>education_id</th>\n",
       "      <th>family_status</th>\n",
       "      <th>family_status_id</th>\n",
       "      <th>gender</th>\n",
       "      <th>income_type</th>\n",
       "      <th>debt</th>\n",
       "      <th>total_income</th>\n",
       "      <th>purpose</th>\n",
       "      <th>purpose_grouped</th>\n",
       "      <th>total_income_status</th>\n",
       "      <th>type_of_family</th>\n",
       "      <th>dob_years_cat</th>\n",
       "    </tr>\n",
       "  </thead>\n",
       "  <tbody>\n",
       "    <tr>\n",
       "      <th>0</th>\n",
       "      <td>1</td>\n",
       "      <td>8437</td>\n",
       "      <td>42</td>\n",
       "      <td>высшее</td>\n",
       "      <td>0</td>\n",
       "      <td>женат / замужем</td>\n",
       "      <td>0</td>\n",
       "      <td>F</td>\n",
       "      <td>сотрудник</td>\n",
       "      <td>0</td>\n",
       "      <td>253875</td>\n",
       "      <td>покупка жилья</td>\n",
       "      <td>недвижимость</td>\n",
       "      <td>высокая</td>\n",
       "      <td>1-2 ребенка</td>\n",
       "      <td>30-45 лет</td>\n",
       "    </tr>\n",
       "    <tr>\n",
       "      <th>1</th>\n",
       "      <td>1</td>\n",
       "      <td>4024</td>\n",
       "      <td>36</td>\n",
       "      <td>среднее</td>\n",
       "      <td>1</td>\n",
       "      <td>женат / замужем</td>\n",
       "      <td>0</td>\n",
       "      <td>F</td>\n",
       "      <td>сотрудник</td>\n",
       "      <td>0</td>\n",
       "      <td>112080</td>\n",
       "      <td>приобретение автомобиля</td>\n",
       "      <td>автомобиль</td>\n",
       "      <td>средняя</td>\n",
       "      <td>1-2 ребенка</td>\n",
       "      <td>30-45 лет</td>\n",
       "    </tr>\n",
       "    <tr>\n",
       "      <th>2</th>\n",
       "      <td>0</td>\n",
       "      <td>5623</td>\n",
       "      <td>33</td>\n",
       "      <td>среднее</td>\n",
       "      <td>1</td>\n",
       "      <td>женат / замужем</td>\n",
       "      <td>0</td>\n",
       "      <td>M</td>\n",
       "      <td>сотрудник</td>\n",
       "      <td>0</td>\n",
       "      <td>145885</td>\n",
       "      <td>покупка жилья</td>\n",
       "      <td>недвижимость</td>\n",
       "      <td>высокая</td>\n",
       "      <td>семьи без детей</td>\n",
       "      <td>30-45 лет</td>\n",
       "    </tr>\n",
       "    <tr>\n",
       "      <th>3</th>\n",
       "      <td>3</td>\n",
       "      <td>4124</td>\n",
       "      <td>32</td>\n",
       "      <td>среднее</td>\n",
       "      <td>1</td>\n",
       "      <td>женат / замужем</td>\n",
       "      <td>0</td>\n",
       "      <td>M</td>\n",
       "      <td>сотрудник</td>\n",
       "      <td>0</td>\n",
       "      <td>267628</td>\n",
       "      <td>дополнительное образование</td>\n",
       "      <td>образование</td>\n",
       "      <td>высокая</td>\n",
       "      <td>многодетные</td>\n",
       "      <td>30-45 лет</td>\n",
       "    </tr>\n",
       "    <tr>\n",
       "      <th>4</th>\n",
       "      <td>0</td>\n",
       "      <td>14235</td>\n",
       "      <td>53</td>\n",
       "      <td>среднее</td>\n",
       "      <td>1</td>\n",
       "      <td>гражданский брак</td>\n",
       "      <td>1</td>\n",
       "      <td>F</td>\n",
       "      <td>пенсионер</td>\n",
       "      <td>0</td>\n",
       "      <td>158616</td>\n",
       "      <td>сыграть свадьбу</td>\n",
       "      <td>свадьба</td>\n",
       "      <td>высокая</td>\n",
       "      <td>семьи без детей</td>\n",
       "      <td>45-65 лет</td>\n",
       "    </tr>\n",
       "  </tbody>\n",
       "</table>\n",
       "</div>"
      ],
      "text/plain": [
       "   children  days_employed  dob_years education  education_id  \\\n",
       "0         1           8437         42    высшее             0   \n",
       "1         1           4024         36   среднее             1   \n",
       "2         0           5623         33   среднее             1   \n",
       "3         3           4124         32   среднее             1   \n",
       "4         0          14235         53   среднее             1   \n",
       "\n",
       "      family_status  family_status_id gender income_type  debt  total_income  \\\n",
       "0   женат / замужем                 0      F   сотрудник     0        253875   \n",
       "1   женат / замужем                 0      F   сотрудник     0        112080   \n",
       "2   женат / замужем                 0      M   сотрудник     0        145885   \n",
       "3   женат / замужем                 0      M   сотрудник     0        267628   \n",
       "4  гражданский брак                 1      F   пенсионер     0        158616   \n",
       "\n",
       "                      purpose purpose_grouped total_income_status  \\\n",
       "0               покупка жилья    недвижимость             высокая   \n",
       "1     приобретение автомобиля      автомобиль             средняя   \n",
       "2               покупка жилья    недвижимость             высокая   \n",
       "3  дополнительное образование     образование             высокая   \n",
       "4             сыграть свадьбу         свадьба             высокая   \n",
       "\n",
       "    type_of_family dob_years_cat  \n",
       "0      1-2 ребенка     30-45 лет  \n",
       "1      1-2 ребенка     30-45 лет  \n",
       "2  семьи без детей     30-45 лет  \n",
       "3      многодетные     30-45 лет  \n",
       "4  семьи без детей     45-65 лет  "
      ]
     },
     "execution_count": 77,
     "metadata": {},
     "output_type": "execute_result"
    }
   ],
   "source": [
    "clients.head()"
   ]
  },
  {
   "cell_type": "markdown",
   "id": "fac6b9c1",
   "metadata": {},
   "source": [
    "### Вывод\n",
    "\n",
    "Теперь, основываясь на полученных данных, мы сможем изучить влияет ли какая-то категория на вероятность задолженности по кредиту\n",
    "\n"
   ]
  },
  {
   "cell_type": "markdown",
   "id": "3acb63de",
   "metadata": {},
   "source": [
    "## Проверка гипотез"
   ]
  },
  {
   "cell_type": "markdown",
   "id": "991f904f",
   "metadata": {},
   "source": [
    "### Есть ли зависимость между наличием детей и возвратом кредита в срок?\n"
   ]
  },
  {
   "cell_type": "code",
   "execution_count": 93,
   "id": "a94ddbf2",
   "metadata": {},
   "outputs": [
    {
     "data": {
      "text/html": [
       "<div>\n",
       "<style scoped>\n",
       "    .dataframe tbody tr th:only-of-type {\n",
       "        vertical-align: middle;\n",
       "    }\n",
       "\n",
       "    .dataframe tbody tr th {\n",
       "        vertical-align: top;\n",
       "    }\n",
       "\n",
       "    .dataframe thead th {\n",
       "        text-align: right;\n",
       "    }\n",
       "</style>\n",
       "<table border=\"1\" class=\"dataframe\">\n",
       "  <thead>\n",
       "    <tr style=\"text-align: right;\">\n",
       "      <th></th>\n",
       "      <th>type_of_family</th>\n",
       "      <th>count</th>\n",
       "      <th>sum</th>\n",
       "      <th>%</th>\n",
       "    </tr>\n",
       "  </thead>\n",
       "  <tbody>\n",
       "    <tr>\n",
       "      <th>0</th>\n",
       "      <td>семьи без детей</td>\n",
       "      <td>14091</td>\n",
       "      <td>1063</td>\n",
       "      <td>7.54</td>\n",
       "    </tr>\n",
       "    <tr>\n",
       "      <th>1</th>\n",
       "      <td>многодетные</td>\n",
       "      <td>380</td>\n",
       "      <td>31</td>\n",
       "      <td>8.16</td>\n",
       "    </tr>\n",
       "    <tr>\n",
       "      <th>2</th>\n",
       "      <td>1-2 ребенка</td>\n",
       "      <td>6983</td>\n",
       "      <td>647</td>\n",
       "      <td>9.27</td>\n",
       "    </tr>\n",
       "  </tbody>\n",
       "</table>\n",
       "</div>"
      ],
      "text/plain": [
       "    type_of_family  count   sum     %\n",
       "0  семьи без детей  14091  1063  7.54\n",
       "1      многодетные    380    31  8.16\n",
       "2      1-2 ребенка   6983   647  9.27"
      ]
     },
     "execution_count": 93,
     "metadata": {},
     "output_type": "execute_result"
    }
   ],
   "source": [
    "depending_on_children = clients.groupby(['type_of_family'])['debt'].agg(['count', 'sum'])\n",
    "depending_on_children['%'] = round(depending_on_children['sum'] / depending_on_children['count'] * 100, 2)\n",
    "depending_on_children.sort_values(['%']).reset_index()"
   ]
  },
  {
   "cell_type": "markdown",
   "id": "c98c2f42",
   "metadata": {},
   "source": [
    "Вероятность клиента принадлежащего к группе \"многодетные\" стать должником составляет 8.16%, а у семей, где  \"1-2 ребенка\" - \n",
    "9.27%. \n",
    "\n",
    "Вероятность клиента из группы \"семьи без детей\" стать должником составляет 7.54%"
   ]
  },
  {
   "cell_type": "markdown",
   "id": "733b85d9",
   "metadata": {},
   "source": [
    "### Вывод\n",
    "\n",
    "С увеличением количества детей мы видим увеличение количества просроченных задолженностей, хотя люди с 3 детьми чаще платят в срок чем люди с 1-2 детьми. \n",
    "\n",
    "Бездетные, как правило реже просрачивают оплату по кредиту, чем люди с детьми."
   ]
  },
  {
   "cell_type": "markdown",
   "id": "88839df7",
   "metadata": {},
   "source": [
    "### Есть ли зависимость между семейным положением и возвратом кредита в срок?\n"
   ]
  },
  {
   "cell_type": "code",
   "execution_count": 115,
   "id": "e10231f0",
   "metadata": {},
   "outputs": [
    {
     "data": {
      "text/html": [
       "<div>\n",
       "<style scoped>\n",
       "    .dataframe tbody tr th:only-of-type {\n",
       "        vertical-align: middle;\n",
       "    }\n",
       "\n",
       "    .dataframe tbody tr th {\n",
       "        vertical-align: top;\n",
       "    }\n",
       "\n",
       "    .dataframe thead th {\n",
       "        text-align: right;\n",
       "    }\n",
       "</style>\n",
       "<table border=\"1\" class=\"dataframe\">\n",
       "  <thead>\n",
       "    <tr style=\"text-align: right;\">\n",
       "      <th></th>\n",
       "      <th>family_status</th>\n",
       "      <th>count</th>\n",
       "      <th>sum</th>\n",
       "      <th>%</th>\n",
       "    </tr>\n",
       "  </thead>\n",
       "  <tbody>\n",
       "    <tr>\n",
       "      <th>0</th>\n",
       "      <td>вдовец / вдова</td>\n",
       "      <td>959</td>\n",
       "      <td>63</td>\n",
       "      <td>6.57</td>\n",
       "    </tr>\n",
       "    <tr>\n",
       "      <th>1</th>\n",
       "      <td>в разводе</td>\n",
       "      <td>1195</td>\n",
       "      <td>85</td>\n",
       "      <td>7.11</td>\n",
       "    </tr>\n",
       "    <tr>\n",
       "      <th>2</th>\n",
       "      <td>женат / замужем</td>\n",
       "      <td>12339</td>\n",
       "      <td>931</td>\n",
       "      <td>7.55</td>\n",
       "    </tr>\n",
       "    <tr>\n",
       "      <th>3</th>\n",
       "      <td>гражданский брак</td>\n",
       "      <td>4151</td>\n",
       "      <td>388</td>\n",
       "      <td>9.35</td>\n",
       "    </tr>\n",
       "    <tr>\n",
       "      <th>4</th>\n",
       "      <td>не женат / не замужем</td>\n",
       "      <td>2810</td>\n",
       "      <td>274</td>\n",
       "      <td>9.75</td>\n",
       "    </tr>\n",
       "  </tbody>\n",
       "</table>\n",
       "</div>"
      ],
      "text/plain": [
       "           family_status  count  sum     %\n",
       "0         вдовец / вдова    959   63  6.57\n",
       "1              в разводе   1195   85  7.11\n",
       "2        женат / замужем  12339  931  7.55\n",
       "3       гражданский брак   4151  388  9.35\n",
       "4  не женат / не замужем   2810  274  9.75"
      ]
     },
     "execution_count": 115,
     "metadata": {},
     "output_type": "execute_result"
    }
   ],
   "source": [
    "depending_on_family_status = clients.groupby(['family_status'])['debt'].agg(['count', 'sum'])\n",
    "depending_on_family_status['%'] = round(depending_on_family_status['sum'] / depending_on_family_status['count'] * 100, 2)\n",
    "depending_on_family_status.sort_values(['%']).reset_index()"
   ]
  },
  {
   "cell_type": "markdown",
   "id": "bf5a9d49",
   "metadata": {},
   "source": [
    "### Вывод\n",
    "\n",
    "Не состоящие и не бывавшие в браке наиболее склонны к задержке выплат, в то же время вдовцы/вдовы и разведеные меньше всех склонны к задолженностям по кредиту."
   ]
  },
  {
   "cell_type": "markdown",
   "id": "fee96067",
   "metadata": {},
   "source": [
    "### Есть ли зависимость между уровнем дохода и возвратом кредита в срок?\n"
   ]
  },
  {
   "cell_type": "code",
   "execution_count": 106,
   "id": "6093e036",
   "metadata": {},
   "outputs": [
    {
     "data": {
      "text/html": [
       "<div>\n",
       "<style scoped>\n",
       "    .dataframe tbody tr th:only-of-type {\n",
       "        vertical-align: middle;\n",
       "    }\n",
       "\n",
       "    .dataframe tbody tr th {\n",
       "        vertical-align: top;\n",
       "    }\n",
       "\n",
       "    .dataframe thead th {\n",
       "        text-align: right;\n",
       "    }\n",
       "</style>\n",
       "<table border=\"1\" class=\"dataframe\">\n",
       "  <thead>\n",
       "    <tr style=\"text-align: right;\">\n",
       "      <th></th>\n",
       "      <th>total_income_status</th>\n",
       "      <th>count</th>\n",
       "      <th>sum</th>\n",
       "      <th>%</th>\n",
       "    </tr>\n",
       "  </thead>\n",
       "  <tbody>\n",
       "    <tr>\n",
       "      <th>0</th>\n",
       "      <td>высокая</td>\n",
       "      <td>10611</td>\n",
       "      <td>831</td>\n",
       "      <td>7.83</td>\n",
       "    </tr>\n",
       "    <tr>\n",
       "      <th>1</th>\n",
       "      <td>низкая</td>\n",
       "      <td>5364</td>\n",
       "      <td>427</td>\n",
       "      <td>7.96</td>\n",
       "    </tr>\n",
       "    <tr>\n",
       "      <th>2</th>\n",
       "      <td>средняя</td>\n",
       "      <td>5479</td>\n",
       "      <td>483</td>\n",
       "      <td>8.82</td>\n",
       "    </tr>\n",
       "  </tbody>\n",
       "</table>\n",
       "</div>"
      ],
      "text/plain": [
       "  total_income_status  count  sum     %\n",
       "0             высокая  10611  831  7.83\n",
       "1              низкая   5364  427  7.96\n",
       "2             средняя   5479  483  8.82"
      ]
     },
     "execution_count": 106,
     "metadata": {},
     "output_type": "execute_result"
    }
   ],
   "source": [
    "depending_on_income = clients.groupby(['total_income_status'])['debt'].agg(['count', 'sum'])\n",
    "depending_on_income['%'] = round(depending_on_income['sum'] / depending_on_income['count'] * 100, 2)\n",
    "depending_on_income.sort_values(['%']).reset_index()"
   ]
  },
  {
   "cell_type": "markdown",
   "id": "c12192cc",
   "metadata": {},
   "source": [
    "### Вывод\n",
    "\n",
    "Люди с высоким доходом меньше с меньшей вероятностью окажутся в должниках, как и люди с низким доходом.\n",
    "В то время как наибольшая вероятность 8.82% стать должником у людей, получающих среднюю зарплату.\n",
    "\n",
    "Это можно объяснить тем, что люди с низким доходам лучше распоряжаются своими средствами и умеют контролировать свой бюджет."
   ]
  },
  {
   "cell_type": "markdown",
   "id": "ebd2135b",
   "metadata": {},
   "source": [
    "### Как разные цели кредита влияют на его возврат в срок?\n"
   ]
  },
  {
   "cell_type": "code",
   "execution_count": 108,
   "id": "fe33f90a",
   "metadata": {},
   "outputs": [
    {
     "data": {
      "text/html": [
       "<div>\n",
       "<style scoped>\n",
       "    .dataframe tbody tr th:only-of-type {\n",
       "        vertical-align: middle;\n",
       "    }\n",
       "\n",
       "    .dataframe tbody tr th {\n",
       "        vertical-align: top;\n",
       "    }\n",
       "\n",
       "    .dataframe thead th {\n",
       "        text-align: right;\n",
       "    }\n",
       "</style>\n",
       "<table border=\"1\" class=\"dataframe\">\n",
       "  <thead>\n",
       "    <tr style=\"text-align: right;\">\n",
       "      <th></th>\n",
       "      <th>purpose_grouped</th>\n",
       "      <th>count</th>\n",
       "      <th>sum</th>\n",
       "      <th>%</th>\n",
       "    </tr>\n",
       "  </thead>\n",
       "  <tbody>\n",
       "    <tr>\n",
       "      <th>0</th>\n",
       "      <td>недвижимость</td>\n",
       "      <td>10811</td>\n",
       "      <td>782</td>\n",
       "      <td>7.23</td>\n",
       "    </tr>\n",
       "    <tr>\n",
       "      <th>1</th>\n",
       "      <td>свадьба</td>\n",
       "      <td>2324</td>\n",
       "      <td>186</td>\n",
       "      <td>8.00</td>\n",
       "    </tr>\n",
       "    <tr>\n",
       "      <th>2</th>\n",
       "      <td>образование</td>\n",
       "      <td>4013</td>\n",
       "      <td>370</td>\n",
       "      <td>9.22</td>\n",
       "    </tr>\n",
       "    <tr>\n",
       "      <th>3</th>\n",
       "      <td>автомобиль</td>\n",
       "      <td>4306</td>\n",
       "      <td>403</td>\n",
       "      <td>9.36</td>\n",
       "    </tr>\n",
       "  </tbody>\n",
       "</table>\n",
       "</div>"
      ],
      "text/plain": [
       "  purpose_grouped  count  sum     %\n",
       "0    недвижимость  10811  782  7.23\n",
       "1         свадьба   2324  186  8.00\n",
       "2     образование   4013  370  9.22\n",
       "3      автомобиль   4306  403  9.36"
      ]
     },
     "execution_count": 108,
     "metadata": {},
     "output_type": "execute_result"
    }
   ],
   "source": [
    "depending_on_purpose = clients.groupby(['purpose_grouped'])['debt'].agg(['count', 'sum'])\n",
    "depending_on_purpose['%'] = round(depending_on_purpose['sum'] / depending_on_purpose['count'] * 100, 2)\n",
    "depending_on_purpose.sort_values(['%']).reset_index()"
   ]
  },
  {
   "cell_type": "markdown",
   "id": "58372643",
   "metadata": {},
   "source": [
    "### Вывод\n",
    "\n",
    "Чаще всего платят в срок с целью кредита недвижимость.\n",
    "Наибольшая вероятность 9.36% стать должником есть у людей, получающих кредитные средства на операции с автомобилем, и 9.22% на образование.\n",
    "\n"
   ]
  },
  {
   "cell_type": "markdown",
   "id": "29a76578",
   "metadata": {},
   "source": [
    "## Общий вывод"
   ]
  },
  {
   "cell_type": "markdown",
   "id": "a80620e1",
   "metadata": {},
   "source": [
    "В ходе исследования надёжности заемщиков были изучены полученные данные, обработаны и заполнены пропуски, удалены дубликаты и клиенты были объединены в группы по разным параметрам.\n",
    "\n",
    "По итогам проделанной работы можно сделать вывод, что семеное положение и количество детей влияет на факт погашения кредита в срок.\n",
    "\n",
    "Идеальный заемщик кредита это: \n",
    " - состоящий или состоящий ранее в официально зарегистрированном браке, \n",
    " - без детей, \n",
    " - зарабатывает больше 107 тыс. рублей в месяц, \n",
    " - приобретатель недвижимости.\n",
    "\n",
    "1. Наличие и количество детей повышает риск невыплат по кредиту\n",
    "2. Люди официально состоящие или состоявшие ранее в браке более ответственны\n",
    "3. Люди со средним доходом являются более безопасными клиентами, но необходимо тщательно проверять достоверность представленных документов.\n",
    "4. Кредиты на недвижимость являются наиболее взвешенными, а покупка автомобилей наиболее импульсивными покупками."
   ]
  }
 ],
 "metadata": {
  "kernelspec": {
   "display_name": "Python 3 (ipykernel)",
   "language": "python",
   "name": "python3"
  },
  "language_info": {
   "codemirror_mode": {
    "name": "ipython",
    "version": 3
   },
   "file_extension": ".py",
   "mimetype": "text/x-python",
   "name": "python",
   "nbconvert_exporter": "python",
   "pygments_lexer": "ipython3",
   "version": "3.9.7"
  },
  "toc": {
   "base_numbering": 1,
   "nav_menu": {},
   "number_sections": true,
   "sideBar": true,
   "skip_h1_title": true,
   "title_cell": "Содержание",
   "title_sidebar": "Содержание",
   "toc_cell": true,
   "toc_position": {},
   "toc_section_display": true,
   "toc_window_display": true
  }
 },
 "nbformat": 4,
 "nbformat_minor": 5
}
